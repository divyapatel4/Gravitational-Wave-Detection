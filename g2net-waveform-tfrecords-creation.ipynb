{
 "cells": [
  {
   "cell_type": "code",
   "execution_count": 1,
   "id": "d23c7984",
   "metadata": {
    "_cell_guid": "b1076dfc-b9ad-4769-8c92-a6c4dae69d19",
    "_uuid": "8f2839f25d086af736a60e9eeb907d3b93b6e0e5",
    "execution": {
     "iopub.execute_input": "2023-11-21T09:35:40.395552Z",
     "iopub.status.busy": "2023-11-21T09:35:40.394234Z",
     "iopub.status.idle": "2023-11-21T09:35:46.569151Z",
     "shell.execute_reply": "2023-11-21T09:35:46.568553Z",
     "shell.execute_reply.started": "2021-08-05T23:34:21.1366Z"
    },
    "papermill": {
     "duration": 6.185102,
     "end_time": "2023-11-21T09:35:46.569314",
     "exception": false,
     "start_time": "2023-11-21T09:35:40.384212",
     "status": "completed"
    },
    "tags": []
   },
   "outputs": [],
   "source": [
    "import numpy as np\n",
    "import pandas as pd\n",
    "import tensorflow as tf\n",
    "import tensorflow.python as tfp\n",
    "from tqdm import tqdm"
   ]
  },
  {
   "cell_type": "code",
   "execution_count": 2,
   "id": "51fb7b97",
   "metadata": {
    "execution": {
     "iopub.execute_input": "2023-11-21T09:35:46.588226Z",
     "iopub.status.busy": "2023-11-21T09:35:46.587615Z",
     "iopub.status.idle": "2023-11-21T09:35:47.624270Z",
     "shell.execute_reply": "2023-11-21T09:35:47.623687Z",
     "shell.execute_reply.started": "2021-08-05T23:34:27.435964Z"
    },
    "papermill": {
     "duration": 1.049524,
     "end_time": "2023-11-21T09:35:47.624404",
     "exception": false,
     "start_time": "2023-11-21T09:35:46.574880",
     "status": "completed"
    },
    "tags": []
   },
   "outputs": [],
   "source": [
    "train_df = pd.read_csv('../input/g2net-gravitational-wave-detection/training_labels.csv')\n",
    "test_df = pd.read_csv('../input/g2net-gravitational-wave-detection/sample_submission.csv')\n",
    "\n",
    "def get_train_file_path(image_id):\n",
    "    return \"../input/g2net-gravitational-wave-detection/train/{}/{}/{}/{}.npy\".format(\n",
    "        image_id[0], image_id[1], image_id[2], image_id)\n",
    "\n",
    "def get_test_file_path(image_id):\n",
    "    return \"../input/g2net-gravitational-wave-detection/test/{}/{}/{}/{}.npy\".format(\n",
    "        image_id[0], image_id[1], image_id[2], image_id)\n",
    "\n",
    "train_df['image_path'] = train_df['id'].apply(get_train_file_path)\n",
    "test_df['image_path'] = test_df['id'].apply(get_test_file_path)"
   ]
  },
  {
   "cell_type": "code",
   "execution_count": 3,
   "id": "2042d214",
   "metadata": {
    "execution": {
     "iopub.execute_input": "2023-11-21T09:35:47.641273Z",
     "iopub.status.busy": "2023-11-21T09:35:47.640675Z",
     "iopub.status.idle": "2023-11-21T09:35:47.643211Z",
     "shell.execute_reply": "2023-11-21T09:35:47.643602Z",
     "shell.execute_reply.started": "2021-08-05T23:34:28.837643Z"
    },
    "papermill": {
     "duration": 0.013864,
     "end_time": "2023-11-21T09:35:47.643759",
     "exception": false,
     "start_time": "2023-11-21T09:35:47.629895",
     "status": "completed"
    },
    "tags": []
   },
   "outputs": [],
   "source": [
    "def _bytes_feature(value):\n",
    "    if isinstance(value, tfp.framework.ops.EagerTensor):\n",
    "        value = value.numpy()\n",
    "    return tf.train.Feature(bytes_list=tf.train.BytesList(value=[value]))\n",
    "\n",
    "\n",
    "def _float_feature(value):\n",
    "    return tf.train.Feature(float_list=tf.train.FloatList(value=[value]))\n",
    "\n",
    "\n",
    "def _int64_feature(value):\n",
    "    return tf.train.Feature(int64_list=tf.train.Int64List(value=[value]))"
   ]
  },
  {
   "cell_type": "code",
   "execution_count": 4,
   "id": "2af6d4e3",
   "metadata": {
    "execution": {
     "iopub.execute_input": "2023-11-21T09:35:47.662693Z",
     "iopub.status.busy": "2023-11-21T09:35:47.662077Z",
     "iopub.status.idle": "2023-11-21T09:35:47.665614Z",
     "shell.execute_reply": "2023-11-21T09:35:47.665101Z",
     "shell.execute_reply.started": "2021-08-05T23:34:28.848185Z"
    },
    "papermill": {
     "duration": 0.016597,
     "end_time": "2023-11-21T09:35:47.665753",
     "exception": false,
     "start_time": "2023-11-21T09:35:47.649156",
     "status": "completed"
    },
    "tags": []
   },
   "outputs": [],
   "source": [
    "def create_tf_example(wave_id: str, wave: bytes, target: int) -> tf.train.Example:\n",
    "    feature = {\n",
    "        \"wave_id\": _bytes_feature(wave_id),\n",
    "        \"wave\": _bytes_feature(wave),\n",
    "        \"target\": _int64_feature(target)\n",
    "    }\n",
    "    return tf.train.Example(features=tf.train.Features(feature=feature))\n",
    "\n",
    "\n",
    "def write_tfrecord(df: pd.DataFrame, filename: str):\n",
    "    options = tf.io.TFRecordOptions(\"GZIP\")\n",
    "    with tf.io.TFRecordWriter(filename, options=options) as writer:\n",
    "        for i in tqdm(range(len(df))):\n",
    "            wave_id = str.encode(df.iloc[i][\"id\"])\n",
    "            wave_dir = df.iloc[i][\"image_path\"]\n",
    "            wave = np.load(wave_dir).tobytes()\n",
    "            target = df.iloc[i][\"target\"]\n",
    "            tf_example = create_tf_example(wave_id, wave, target)\n",
    "            writer.write(tf_example.SerializeToString())"
   ]
  },
  {
   "cell_type": "code",
   "execution_count": 5,
   "id": "680ce5ac",
   "metadata": {
    "execution": {
     "iopub.execute_input": "2023-11-21T09:35:47.683577Z",
     "iopub.status.busy": "2023-11-21T09:35:47.682931Z",
     "iopub.status.idle": "2023-11-21T10:19:32.659578Z",
     "shell.execute_reply": "2023-11-21T10:19:32.660211Z"
    },
    "papermill": {
     "duration": 2624.989191,
     "end_time": "2023-11-21T10:19:32.660417",
     "exception": false,
     "start_time": "2023-11-21T09:35:47.671226",
     "status": "completed"
    },
    "tags": []
   },
   "outputs": [
    {
     "name": "stderr",
     "output_type": "stream",
     "text": [
      "100%|██████████| 28000/28000 [08:05<00:00, 57.63it/s]\n",
      "100%|██████████| 28000/28000 [08:21<00:00, 55.88it/s]\n",
      "100%|██████████| 28000/28000 [09:28<00:00, 49.25it/s]\n",
      "100%|██████████| 28000/28000 [09:03<00:00, 51.52it/s]\n",
      "100%|██████████| 28000/28000 [08:45<00:00, 53.24it/s]\n"
     ]
    }
   ],
   "source": [
    "train_samples_per_file = 28000\n",
    "train_number_of_files = len(train_df) // train_samples_per_file\n",
    "\n",
    "for i in range(10, 15):\n",
    "    start = i * train_samples_per_file\n",
    "    end = (i + 1) * train_samples_per_file\n",
    "    df = train_df.iloc[start:end].reset_index(drop=True)\n",
    "    filename = f\"train{i}.tfrecords\"\n",
    "    write_tfrecord(df, filename)"
   ]
  },
  {
   "cell_type": "code",
   "execution_count": null,
   "id": "5c2951e0",
   "metadata": {
    "papermill": {
     "duration": 5.755333,
     "end_time": "2023-11-21T10:19:44.212736",
     "exception": false,
     "start_time": "2023-11-21T10:19:38.457403",
     "status": "completed"
    },
    "tags": []
   },
   "outputs": [],
   "source": []
  }
 ],
 "metadata": {
  "kaggle": {
   "accelerator": "none",
   "dataSources": [
    {
     "databundleVersionId": 2399555,
     "sourceId": 23249,
     "sourceType": "competition"
    }
   ],
   "dockerImageVersionId": 30120,
   "isGpuEnabled": false,
   "isInternetEnabled": true,
   "language": "python",
   "sourceType": "notebook"
  },
  "kernelspec": {
   "display_name": "Python 3",
   "language": "python",
   "name": "python3"
  },
  "language_info": {
   "codemirror_mode": {
    "name": "ipython",
    "version": 3
   },
   "file_extension": ".py",
   "mimetype": "text/x-python",
   "name": "python",
   "nbconvert_exporter": "python",
   "pygments_lexer": "ipython3",
   "version": "3.7.10"
  },
  "papermill": {
   "default_parameters": {},
   "duration": 2659.634363,
   "end_time": "2023-11-21T10:19:52.542735",
   "environment_variables": {},
   "exception": null,
   "input_path": "__notebook__.ipynb",
   "output_path": "__notebook__.ipynb",
   "parameters": {},
   "start_time": "2023-11-21T09:35:32.908372",
   "version": "2.3.3"
  }
 },
 "nbformat": 4,
 "nbformat_minor": 5
}
