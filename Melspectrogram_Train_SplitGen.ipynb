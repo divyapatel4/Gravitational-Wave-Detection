{
 "cells": [
  {
   "cell_type": "markdown",
   "id": "comic-present",
   "metadata": {
    "papermill": {
     "duration": 0.011482,
     "end_time": "2023-11-21T09:27:06.079052",
     "exception": false,
     "start_time": "2023-11-21T09:27:06.067570",
     "status": "completed"
    },
    "tags": []
   },
   "source": [
    "# Data Loading"
   ]
  },
  {
   "cell_type": "code",
   "execution_count": 1,
   "id": "weighted-mills",
   "metadata": {
    "execution": {
     "iopub.execute_input": "2023-11-21T09:27:06.104690Z",
     "iopub.status.busy": "2023-11-21T09:27:06.103263Z",
     "iopub.status.idle": "2023-11-21T09:27:06.962689Z",
     "shell.execute_reply": "2023-11-21T09:27:06.961274Z",
     "shell.execute_reply.started": "2023-11-13T13:02:00.686321Z"
    },
    "papermill": {
     "duration": 0.873384,
     "end_time": "2023-11-21T09:27:06.962919",
     "exception": false,
     "start_time": "2023-11-21T09:27:06.089535",
     "status": "completed"
    },
    "tags": []
   },
   "outputs": [],
   "source": [
    "import os\n",
    "import numpy as np\n",
    "import pandas as pd\n",
    "from PIL import Image\n",
    "from matplotlib import pyplot as plt\n",
    "import seaborn as sns"
   ]
  },
  {
   "cell_type": "code",
   "execution_count": 2,
   "id": "critical-replacement",
   "metadata": {
    "execution": {
     "iopub.execute_input": "2023-11-21T09:27:06.994710Z",
     "iopub.status.busy": "2023-11-21T09:27:06.993715Z",
     "iopub.status.idle": "2023-11-21T09:27:08.675802Z",
     "shell.execute_reply": "2023-11-21T09:27:08.676409Z",
     "shell.execute_reply.started": "2023-11-13T13:02:01.720979Z"
    },
    "papermill": {
     "duration": 1.702955,
     "end_time": "2023-11-21T09:27:08.676623",
     "exception": false,
     "start_time": "2023-11-21T09:27:06.973668",
     "status": "completed"
    },
    "tags": []
   },
   "outputs": [
    {
     "data": {
      "text/html": [
       "<div>\n",
       "<style scoped>\n",
       "    .dataframe tbody tr th:only-of-type {\n",
       "        vertical-align: middle;\n",
       "    }\n",
       "\n",
       "    .dataframe tbody tr th {\n",
       "        vertical-align: top;\n",
       "    }\n",
       "\n",
       "    .dataframe thead th {\n",
       "        text-align: right;\n",
       "    }\n",
       "</style>\n",
       "<table border=\"1\" class=\"dataframe\">\n",
       "  <thead>\n",
       "    <tr style=\"text-align: right;\">\n",
       "      <th></th>\n",
       "      <th>id</th>\n",
       "      <th>target</th>\n",
       "      <th>file_path</th>\n",
       "    </tr>\n",
       "  </thead>\n",
       "  <tbody>\n",
       "    <tr>\n",
       "      <th>0</th>\n",
       "      <td>00000e74ad</td>\n",
       "      <td>1</td>\n",
       "      <td>../input/g2net-gravitational-wave-detection/tr...</td>\n",
       "    </tr>\n",
       "    <tr>\n",
       "      <th>1</th>\n",
       "      <td>00001f4945</td>\n",
       "      <td>0</td>\n",
       "      <td>../input/g2net-gravitational-wave-detection/tr...</td>\n",
       "    </tr>\n",
       "    <tr>\n",
       "      <th>2</th>\n",
       "      <td>0000661522</td>\n",
       "      <td>0</td>\n",
       "      <td>../input/g2net-gravitational-wave-detection/tr...</td>\n",
       "    </tr>\n",
       "    <tr>\n",
       "      <th>3</th>\n",
       "      <td>00007a006a</td>\n",
       "      <td>0</td>\n",
       "      <td>../input/g2net-gravitational-wave-detection/tr...</td>\n",
       "    </tr>\n",
       "    <tr>\n",
       "      <th>4</th>\n",
       "      <td>0000a38978</td>\n",
       "      <td>1</td>\n",
       "      <td>../input/g2net-gravitational-wave-detection/tr...</td>\n",
       "    </tr>\n",
       "  </tbody>\n",
       "</table>\n",
       "</div>"
      ],
      "text/plain": [
       "           id  target                                          file_path\n",
       "0  00000e74ad       1  ../input/g2net-gravitational-wave-detection/tr...\n",
       "1  00001f4945       0  ../input/g2net-gravitational-wave-detection/tr...\n",
       "2  0000661522       0  ../input/g2net-gravitational-wave-detection/tr...\n",
       "3  00007a006a       0  ../input/g2net-gravitational-wave-detection/tr...\n",
       "4  0000a38978       1  ../input/g2net-gravitational-wave-detection/tr..."
      ]
     },
     "metadata": {},
     "output_type": "display_data"
    },
    {
     "data": {
      "text/html": [
       "<div>\n",
       "<style scoped>\n",
       "    .dataframe tbody tr th:only-of-type {\n",
       "        vertical-align: middle;\n",
       "    }\n",
       "\n",
       "    .dataframe tbody tr th {\n",
       "        vertical-align: top;\n",
       "    }\n",
       "\n",
       "    .dataframe thead th {\n",
       "        text-align: right;\n",
       "    }\n",
       "</style>\n",
       "<table border=\"1\" class=\"dataframe\">\n",
       "  <thead>\n",
       "    <tr style=\"text-align: right;\">\n",
       "      <th></th>\n",
       "      <th>id</th>\n",
       "      <th>target</th>\n",
       "      <th>file_path</th>\n",
       "    </tr>\n",
       "  </thead>\n",
       "  <tbody>\n",
       "    <tr>\n",
       "      <th>0</th>\n",
       "      <td>00005bced6</td>\n",
       "      <td>0.5</td>\n",
       "      <td>../input/g2net-gravitational-wave-detection/te...</td>\n",
       "    </tr>\n",
       "    <tr>\n",
       "      <th>1</th>\n",
       "      <td>0000806717</td>\n",
       "      <td>0.5</td>\n",
       "      <td>../input/g2net-gravitational-wave-detection/te...</td>\n",
       "    </tr>\n",
       "    <tr>\n",
       "      <th>2</th>\n",
       "      <td>0000ef4fe1</td>\n",
       "      <td>0.5</td>\n",
       "      <td>../input/g2net-gravitational-wave-detection/te...</td>\n",
       "    </tr>\n",
       "    <tr>\n",
       "      <th>3</th>\n",
       "      <td>00020de251</td>\n",
       "      <td>0.5</td>\n",
       "      <td>../input/g2net-gravitational-wave-detection/te...</td>\n",
       "    </tr>\n",
       "    <tr>\n",
       "      <th>4</th>\n",
       "      <td>00024887b5</td>\n",
       "      <td>0.5</td>\n",
       "      <td>../input/g2net-gravitational-wave-detection/te...</td>\n",
       "    </tr>\n",
       "  </tbody>\n",
       "</table>\n",
       "</div>"
      ],
      "text/plain": [
       "           id  target                                          file_path\n",
       "0  00005bced6     0.5  ../input/g2net-gravitational-wave-detection/te...\n",
       "1  0000806717     0.5  ../input/g2net-gravitational-wave-detection/te...\n",
       "2  0000ef4fe1     0.5  ../input/g2net-gravitational-wave-detection/te...\n",
       "3  00020de251     0.5  ../input/g2net-gravitational-wave-detection/te...\n",
       "4  00024887b5     0.5  ../input/g2net-gravitational-wave-detection/te..."
      ]
     },
     "metadata": {},
     "output_type": "display_data"
    }
   ],
   "source": [
    "train = pd.read_csv('../input/g2net-gravitational-wave-detection/training_labels.csv')\n",
    "test = pd.read_csv('../input/g2net-gravitational-wave-detection/sample_submission.csv')\n",
    "\n",
    "def get_train_file_path(image_id):\n",
    "    return \"../input/g2net-gravitational-wave-detection/train/{}/{}/{}/{}.npy\".format(\n",
    "        image_id[0], image_id[1], image_id[2], image_id)\n",
    "\n",
    "def get_test_file_path(image_id):\n",
    "    return \"../input/g2net-gravitational-wave-detection/test/{}/{}/{}/{}.npy\".format(\n",
    "        image_id[0], image_id[1], image_id[2], image_id)\n",
    "\n",
    "train['file_path'] = train['id'].apply(get_train_file_path)\n",
    "test['file_path'] = test['id'].apply(get_test_file_path)\n",
    "\n",
    "display(train.head())\n",
    "display(test.head())"
   ]
  },
  {
   "cell_type": "markdown",
   "id": "hazardous-harvest",
   "metadata": {
    "papermill": {
     "duration": 0.01151,
     "end_time": "2023-11-21T09:27:08.700422",
     "exception": false,
     "start_time": "2023-11-21T09:27:08.688912",
     "status": "completed"
    },
    "tags": []
   },
   "source": [
    "# Visualize"
   ]
  },
  {
   "cell_type": "code",
   "execution_count": 3,
   "id": "substantial-protest",
   "metadata": {
    "execution": {
     "iopub.execute_input": "2023-11-21T09:27:08.733384Z",
     "iopub.status.busy": "2023-11-21T09:27:08.732609Z",
     "iopub.status.idle": "2023-11-21T09:27:10.837102Z",
     "shell.execute_reply": "2023-11-21T09:27:10.837811Z",
     "shell.execute_reply.started": "2023-11-13T13:02:03.501274Z"
    },
    "papermill": {
     "duration": 2.125386,
     "end_time": "2023-11-21T09:27:10.838033",
     "exception": false,
     "start_time": "2023-11-21T09:27:08.712647",
     "status": "completed"
    },
    "tags": []
   },
   "outputs": [
    {
     "data": {
      "image/png": "[encoded data removed]",
      "text/plain": [
       "<Figure size 432x288 with 1 Axes>"
      ]
     },
     "metadata": {
      "needs_background": "light"
     },
     "output_type": "display_data"
    }
   ],
   "source": [
    "import librosa\n",
    "import librosa.display\n",
    "\n",
    "for i in range(1):\n",
    "    waves = np.load(train.loc[i, 'file_path']).astype(np.float32) # (3, 4096)\n",
    "    melspecs = []\n",
    "    for j in range(3):\n",
    "        melspec = librosa.feature.melspectrogram(waves[j] / max(waves[j]),\n",
    "                                                 sr=4096, n_mels=128, fmin=20, fmax=2048)\n",
    "        melspec = librosa.power_to_db(melspec)\n",
    "        melspec = melspec.transpose((1, 0))\n",
    "        melspecs.append(melspec)\n",
    "    image = np.vstack(melspecs)\n",
    "    plt.imshow(image)"
   ]
  },
  {
   "cell_type": "markdown",
   "id": "linear-cabinet",
   "metadata": {
    "papermill": {
     "duration": 0.014196,
     "end_time": "2023-11-21T09:27:10.866261",
     "exception": false,
     "start_time": "2023-11-21T09:27:10.852065",
     "status": "completed"
    },
    "tags": []
   },
   "source": [
    "# Save images"
   ]
  },
  {
   "cell_type": "code",
   "execution_count": 4,
   "id": "rational-microwave",
   "metadata": {
    "execution": {
     "iopub.execute_input": "2023-11-21T09:27:10.901121Z",
     "iopub.status.busy": "2023-11-21T09:27:10.900167Z",
     "iopub.status.idle": "2023-11-21T09:27:10.903026Z",
     "shell.execute_reply": "2023-11-21T09:27:10.903671Z",
     "shell.execute_reply.started": "2023-11-13T13:02:05.839869Z"
    },
    "papermill": {
     "duration": 0.023781,
     "end_time": "2023-11-21T09:27:10.903885",
     "exception": false,
     "start_time": "2023-11-21T09:27:10.880104",
     "status": "completed"
    },
    "tags": []
   },
   "outputs": [],
   "source": [
    "OUT_DIR = \"train/\"\n",
    "os.mkdir(OUT_DIR)"
   ]
  },
  {
   "cell_type": "code",
   "execution_count": 5,
   "id": "industrial-vector",
   "metadata": {
    "execution": {
     "iopub.execute_input": "2023-11-21T09:27:10.936146Z",
     "iopub.status.busy": "2023-11-21T09:27:10.935374Z",
     "iopub.status.idle": "2023-11-21T09:27:10.943143Z",
     "shell.execute_reply": "2023-11-21T09:27:10.943733Z",
     "shell.execute_reply.started": "2023-11-13T13:02:05.846591Z"
    },
    "papermill": {
     "duration": 0.0253,
     "end_time": "2023-11-21T09:27:10.943958",
     "exception": false,
     "start_time": "2023-11-21T09:27:10.918658",
     "status": "completed"
    },
    "tags": []
   },
   "outputs": [],
   "source": [
    "def save_images(file_path):\n",
    "    file_name = file_path.split('/')[-1].split('.npy')[0]\n",
    "    waves = np.load(file_path).astype(np.float32) # (3, 4096)\n",
    "    melspecs = []\n",
    "    for j in range(3):\n",
    "        melspec = librosa.feature.melspectrogram(waves[j] / max(waves[j]),\n",
    "                                                 sr=4096, n_mels=128, fmin=20, fmax=2048)\n",
    "        melspec = librosa.power_to_db(melspec)\n",
    "        melspec = melspec.transpose((1, 0))\n",
    "        melspecs.append(melspec)\n",
    "    image = np.vstack(melspecs)\n",
    "    np.save(OUT_DIR + file_name, image)"
   ]
  },
  {
   "cell_type": "code",
   "execution_count": 6,
   "id": "conservative-motorcycle",
   "metadata": {
    "execution": {
     "iopub.execute_input": "2023-11-21T09:27:10.975262Z",
     "iopub.status.busy": "2023-11-21T09:27:10.974537Z",
     "iopub.status.idle": "2023-11-21T10:49:54.868048Z",
     "shell.execute_reply": "2023-11-21T10:49:54.866993Z"
    },
    "papermill": {
     "duration": 4963.911392,
     "end_time": "2023-11-21T10:49:54.869142",
     "exception": false,
     "start_time": "2023-11-21T09:27:10.957750",
     "status": "completed"
    },
    "tags": []
   },
   "outputs": [
    {
     "data": {
      "application/vnd.jupyter.widget-view+json": {
       "model_id": "22f0eda746674a16883167084718e699",
       "version_major": 2,
       "version_minor": 0
      },
      "text/plain": [
       "  0%|          | 0/560000 [00:00<?, ?it/s]"
      ]
     },
     "metadata": {},
     "output_type": "display_data"
    }
   ],
   "source": [
    "import joblib\n",
    "from tqdm.auto import tqdm\n",
    "\n",
    "_ = joblib.Parallel(n_jobs=8)(\n",
    "    joblib.delayed(save_images)(file_path) for file_path in tqdm(train['file_path'].values)\n",
    ")"
   ]
  },
  {
   "cell_type": "code",
   "execution_count": 7,
   "id": "found-nicaragua",
   "metadata": {
    "execution": {
     "iopub.execute_input": "2023-11-21T10:49:54.917759Z",
     "iopub.status.busy": "2023-11-21T10:49:54.916942Z",
     "iopub.status.idle": "2023-11-21T11:05:02.725323Z",
     "shell.execute_reply": "2023-11-21T11:05:02.722483Z"
    },
    "papermill": {
     "duration": 907.836094,
     "end_time": "2023-11-21T11:05:02.725543",
     "exception": false,
     "start_time": "2023-11-21T10:49:54.889449",
     "status": "completed"
    },
    "tags": []
   },
   "outputs": [],
   "source": [
    "import shutil\n",
    "\n",
    "shutil.make_archive(OUT_DIR, 'zip', OUT_DIR)\n",
    "shutil.rmtree(OUT_DIR)"
   ]
  }
 ],
 "metadata": {
  "kaggle": {
   "accelerator": "none",
   "dataSources": [
    {
     "databundleVersionId": 2399555,
     "sourceId": 23249,
     "sourceType": "competition"
    }
   ],
   "dockerImageVersionId": 30096,
   "isGpuEnabled": false,
   "isInternetEnabled": true,
   "language": "python",
   "sourceType": "notebook"
  },
  "kernelspec": {
   "display_name": "Python 3",
   "language": "python",
   "name": "python3"
  },
  "language_info": {
   "codemirror_mode": {
    "name": "ipython",
    "version": 3
   },
   "file_extension": ".py",
   "mimetype": "text/x-python",
   "name": "python",
   "nbconvert_exporter": "python",
   "pygments_lexer": "ipython3",
   "version": "3.7.10"
  },
  "papermill": {
   "default_parameters": {},
   "duration": 5887.891412,
   "end_time": "2023-11-21T11:05:04.495808",
   "environment_variables": {},
   "exception": null,
   "input_path": "__notebook__.ipynb",
   "output_path": "__notebook__.ipynb",
   "parameters": {},
   "start_time": "2023-11-21T09:26:56.604396",
   "version": "2.3.3"
  },
  "widgets": {
   "application/vnd.jupyter.widget-state+json": {
    "state": {
     "05116f726cd04a2aa141ebe7acf88246": {
      "model_module": "@jupyter-widgets/controls",
      "model_module_version": "1.5.0",
      "model_name": "HTMLModel",
      "state": {
       "_dom_classes": [],
       "_model_module": "@jupyter-widgets/controls",
       "_model_module_version": "1.5.0",
       "_model_name": "HTMLModel",
       "_view_count": null,
       "_view_module": "@jupyter-widgets/controls",
       "_view_module_version": "1.5.0",
       "_view_name": "HTMLView",
       "description": "",
       "description_tooltip": null,
       "layout": "IPY_MODEL_5e4062ff92704f6690abf07b804544ce",
       "placeholder": "​",
       "style": "IPY_MODEL_9e7e20842f064693bbe8941fec6235aa",
       "value": " 560000/560000 [1:22:43&lt;00:00, 120.11it/s]"
      }
     },
     "1c9eba8a0efa41afa602d01fc92bbb2c": {
      "model_module": "@jupyter-widgets/controls",
      "model_module_version": "1.5.0",
      "model_name": "DescriptionStyleModel",
      "state": {
       "_model_module": "@jupyter-widgets/controls",
       "_model_module_version": "1.5.0",
       "_model_name": "DescriptionStyleModel",
       "_view_count": null,
       "_view_module": "@jupyter-widgets/base",
       "_view_module_version": "1.2.0",
       "_view_name": "StyleView",
       "description_width": ""
      }
     },
     "22f0eda746674a16883167084718e699": {
      "model_module": "@jupyter-widgets/controls",
      "model_module_version": "1.5.0",
      "model_name": "HBoxModel",
      "state": {
       "_dom_classes": [],
       "_model_module": "@jupyter-widgets/controls",
       "_model_module_version": "1.5.0",
       "_model_name": "HBoxModel",
       "_view_count": null,
       "_view_module": "@jupyter-widgets/controls",
       "_view_module_version": "1.5.0",
       "_view_name": "HBoxView",
       "box_style": "",
       "children": [
        "IPY_MODEL_552a03cf219a469abcd764b8dcb6ee91",
        "IPY_MODEL_592a4dc436c449cea76d56bc926f6af9",
        "IPY_MODEL_05116f726cd04a2aa141ebe7acf88246"
       ],
       "layout": "IPY_MODEL_fa3cf74691844492ae54ea91c42f2029"
      }
     },
     "3f8177645dd842d6a8fd10f0160d9ce8": {
      "model_module": "@jupyter-widgets/base",
      "model_module_version": "1.2.0",
      "model_name": "LayoutModel",
      "state": {
       "_model_module": "@jupyter-widgets/base",
       "_model_module_version": "1.2.0",
       "_model_name": "LayoutModel",
       "_view_count": null,
       "_view_module": "@jupyter-widgets/base",
       "_view_module_version": "1.2.0",
       "_view_name": "LayoutView",
       "align_content": null,
       "align_items": null,
       "align_self": null,
       "border": null,
       "bottom": null,
       "display": null,
       "flex": null,
       "flex_flow": null,
       "grid_area": null,
       "grid_auto_columns": null,
       "grid_auto_flow": null,
       "grid_auto_rows": null,
       "grid_column": null,
       "grid_gap": null,
       "grid_row": null,
       "grid_template_areas": null,
       "grid_template_columns": null,
       "grid_template_rows": null,
       "height": null,
       "justify_content": null,
       "justify_items": null,
       "left": null,
       "margin": null,
       "max_height": null,
       "max_width": null,
       "min_height": null,
       "min_width": null,
       "object_fit": null,
       "object_position": null,
       "order": null,
       "overflow": null,
       "overflow_x": null,
       "overflow_y": null,
       "padding": null,
       "right": null,
       "top": null,
       "visibility": null,
       "width": null
      }
     },
     "4f8f18b3a8074152b4eb962266acefeb": {
      "model_module": "@jupyter-widgets/base",
      "model_module_version": "1.2.0",
      "model_name": "LayoutModel",
      "state": {
       "_model_module": "@jupyter-widgets/base",
       "_model_module_version": "1.2.0",
       "_model_name": "LayoutModel",
       "_view_count": null,
       "_view_module": "@jupyter-widgets/base",
       "_view_module_version": "1.2.0",
       "_view_name": "LayoutView",
       "align_content": null,
       "align_items": null,
       "align_self": null,
       "border": null,
       "bottom": null,
       "display": null,
       "flex": null,
       "flex_flow": null,
       "grid_area": null,
       "grid_auto_columns": null,
       "grid_auto_flow": null,
       "grid_auto_rows": null,
       "grid_column": null,
       "grid_gap": null,
       "grid_row": null,
       "grid_template_areas": null,
       "grid_template_columns": null,
       "grid_template_rows": null,
       "height": null,
       "justify_content": null,
       "justify_items": null,
       "left": null,
       "margin": null,
       "max_height": null,
       "max_width": null,
       "min_height": null,
       "min_width": null,
       "object_fit": null,
       "object_position": null,
       "order": null,
       "overflow": null,
       "overflow_x": null,
       "overflow_y": null,
       "padding": null,
       "right": null,
       "top": null,
       "visibility": null,
       "width": null
      }
     },
     "552a03cf219a469abcd764b8dcb6ee91": {
      "model_module": "@jupyter-widgets/controls",
      "model_module_version": "1.5.0",
      "model_name": "HTMLModel",
      "state": {
       "_dom_classes": [],
       "_model_module": "@jupyter-widgets/controls",
       "_model_module_version": "1.5.0",
       "_model_name": "HTMLModel",
       "_view_count": null,
       "_view_module": "@jupyter-widgets/controls",
       "_view_module_version": "1.5.0",
       "_view_name": "HTMLView",
       "description": "",
       "description_tooltip": null,
       "layout": "IPY_MODEL_3f8177645dd842d6a8fd10f0160d9ce8",
       "placeholder": "​",
       "style": "IPY_MODEL_1c9eba8a0efa41afa602d01fc92bbb2c",
       "value": "100%"
      }
     },
     "592a4dc436c449cea76d56bc926f6af9": {
      "model_module": "@jupyter-widgets/controls",
      "model_module_version": "1.5.0",
      "model_name": "FloatProgressModel",
      "state": {
       "_dom_classes": [],
       "_model_module": "@jupyter-widgets/controls",
       "_model_module_version": "1.5.0",
       "_model_name": "FloatProgressModel",
       "_view_count": null,
       "_view_module": "@jupyter-widgets/controls",
       "_view_module_version": "1.5.0",
       "_view_name": "ProgressView",
       "bar_style": "success",
       "description": "",
       "description_tooltip": null,
       "layout": "IPY_MODEL_4f8f18b3a8074152b4eb962266acefeb",
       "max": 560000.0,
       "min": 0.0,
       "orientation": "horizontal",
       "style": "IPY_MODEL_64b8a09033704b879d2fea38b8d1c3db",
       "value": 560000.0
      }
     },
     "5e4062ff92704f6690abf07b804544ce": {
      "model_module": "@jupyter-widgets/base",
      "model_module_version": "1.2.0",
      "model_name": "LayoutModel",
      "state": {
       "_model_module": "@jupyter-widgets/base",
       "_model_module_version": "1.2.0",
       "_model_name": "LayoutModel",
       "_view_count": null,
       "_view_module": "@jupyter-widgets/base",
       "_view_module_version": "1.2.0",
       "_view_name": "LayoutView",
       "align_content": null,
       "align_items": null,
       "align_self": null,
       "border": null,
       "bottom": null,
       "display": null,
       "flex": null,
       "flex_flow": null,
       "grid_area": null,
       "grid_auto_columns": null,
       "grid_auto_flow": null,
       "grid_auto_rows": null,
       "grid_column": null,
       "grid_gap": null,
       "grid_row": null,
       "grid_template_areas": null,
       "grid_template_columns": null,
       "grid_template_rows": null,
       "height": null,
       "justify_content": null,
       "justify_items": null,
       "left": null,
       "margin": null,
       "max_height": null,
       "max_width": null,
       "min_height": null,
       "min_width": null,
       "object_fit": null,
       "object_position": null,
       "order": null,
       "overflow": null,
       "overflow_x": null,
       "overflow_y": null,
       "padding": null,
       "right": null,
       "top": null,
       "visibility": null,
       "width": null
      }
     },
     "64b8a09033704b879d2fea38b8d1c3db": {
      "model_module": "@jupyter-widgets/controls",
      "model_module_version": "1.5.0",
      "model_name": "ProgressStyleModel",
      "state": {
       "_model_module": "@jupyter-widgets/controls",
       "_model_module_version": "1.5.0",
       "_model_name": "ProgressStyleModel",
       "_view_count": null,
       "_view_module": "@jupyter-widgets/base",
       "_view_module_version": "1.2.0",
       "_view_name": "StyleView",
       "bar_color": null,
       "description_width": ""
      }
     },
     "9e7e20842f064693bbe8941fec6235aa": {
      "model_module": "@jupyter-widgets/controls",
      "model_module_version": "1.5.0",
      "model_name": "DescriptionStyleModel",
      "state": {
       "_model_module": "@jupyter-widgets/controls",
       "_model_module_version": "1.5.0",
       "_model_name": "DescriptionStyleModel",
       "_view_count": null,
       "_view_module": "@jupyter-widgets/base",
       "_view_module_version": "1.2.0",
       "_view_name": "StyleView",
       "description_width": ""
      }
     },
     "fa3cf74691844492ae54ea91c42f2029": {
      "model_module": "@jupyter-widgets/base",
      "model_module_version": "1.2.0",
      "model_name": "LayoutModel",
      "state": {
       "_model_module": "@jupyter-widgets/base",
       "_model_module_version": "1.2.0",
       "_model_name": "LayoutModel",
       "_view_count": null,
       "_view_module": "@jupyter-widgets/base",
       "_view_module_version": "1.2.0",
       "_view_name": "LayoutView",
       "align_content": null,
       "align_items": null,
       "align_self": null,
       "border": null,
       "bottom": null,
       "display": null,
       "flex": null,
       "flex_flow": null,
       "grid_area": null,
       "grid_auto_columns": null,
       "grid_auto_flow": null,
       "grid_auto_rows": null,
       "grid_column": null,
       "grid_gap": null,
       "grid_row": null,
       "grid_template_areas": null,
       "grid_template_columns": null,
       "grid_template_rows": null,
       "height": null,
       "justify_content": null,
       "justify_items": null,
       "left": null,
       "margin": null,
       "max_height": null,
       "max_width": null,
       "min_height": null,
       "min_width": null,
       "object_fit": null,
       "object_position": null,
       "order": null,
       "overflow": null,
       "overflow_x": null,
       "overflow_y": null,
       "padding": null,
       "right": null,
       "top": null,
       "visibility": null,
       "width": null
      }
     }
    },
    "version_major": 2,
    "version_minor": 0
   }
  }
 },
 "nbformat": 4,
 "nbformat_minor": 5
}
