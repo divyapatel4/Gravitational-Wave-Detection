{
 "cells": [
  {
   "cell_type": "markdown",
   "id": "fefab3ce",
   "metadata": {
    "papermill": {
     "duration": 0.022529,
     "end_time": "2021-08-14T03:21:20.275331",
     "exception": false,
     "start_time": "2021-08-14T03:21:20.252802",
     "status": "completed"
    },
    "tags": []
   },
   "source": [
    "## Install Dependencies"
   ]
  },
  {
   "cell_type": "code",
   "execution_count": 1,
   "id": "c97ac555",
   "metadata": {
    "execution": {
     "iopub.execute_input": "2021-08-14T03:21:20.325866Z",
     "iopub.status.busy": "2021-08-14T03:21:20.324637Z",
     "iopub.status.idle": "2021-08-14T03:21:29.851118Z",
     "shell.execute_reply": "2021-08-14T03:21:29.850259Z",
     "shell.execute_reply.started": "2021-08-13T14:28:17.064087Z"
    },
    "papermill": {
     "duration": 9.553192,
     "end_time": "2021-08-14T03:21:29.851299",
     "exception": false,
     "start_time": "2021-08-14T03:21:20.298107",
     "status": "completed"
    },
    "tags": []
   },
   "outputs": [
    {
     "name": "stdout",
     "output_type": "stream",
     "text": [
      "\u001b[33mWARNING: Running pip as root will break packages and permissions. You should install packages reliably by using venv: https://pip.pypa.io/warnings/venv\u001b[0m\r\n"
     ]
    }
   ],
   "source": [
    "!pip install efficientnet tensorflow_addons > /dev/null"
   ]
  },
  {
   "cell_type": "code",
   "execution_count": 2,
   "id": "571f9532",
   "metadata": {
    "execution": {
     "iopub.execute_input": "2021-08-14T03:21:29.908144Z",
     "iopub.status.busy": "2021-08-14T03:21:29.907429Z",
     "iopub.status.idle": "2021-08-14T03:21:37.811890Z",
     "shell.execute_reply": "2021-08-14T03:21:37.811286Z",
     "shell.execute_reply.started": "2021-08-13T14:28:43.372713Z"
    },
    "papermill": {
     "duration": 7.93501,
     "end_time": "2021-08-14T03:21:37.812078",
     "exception": false,
     "start_time": "2021-08-14T03:21:29.877068",
     "status": "completed"
    },
    "tags": []
   },
   "outputs": [],
   "source": [
    "import os\n",
    "import math\n",
    "import random\n",
    "import re\n",
    "import warnings\n",
    "from pathlib import Path\n",
    "from typing import Optional, Tuple\n",
    "\n",
    "import efficientnet.tfkeras as efn\n",
    "import matplotlib.pyplot as plt\n",
    "import numpy as np\n",
    "import pandas as pd\n",
    "import seaborn as sns\n",
    "import tensorflow as tf\n",
    "import tensorflow_addons as tfa\n",
    "from kaggle_datasets import KaggleDatasets\n",
    "from scipy.signal import get_window\n",
    "from sklearn.model_selection import KFold\n",
    "from sklearn.metrics import roc_auc_score"
   ]
  },
  {
   "cell_type": "code",
   "execution_count": 3,
   "id": "2451cd51",
   "metadata": {
    "execution": {
     "iopub.execute_input": "2021-08-14T03:21:37.868139Z",
     "iopub.status.busy": "2021-08-14T03:21:37.867175Z",
     "iopub.status.idle": "2021-08-14T03:21:37.871224Z",
     "shell.execute_reply": "2021-08-14T03:21:37.871687Z",
     "shell.execute_reply.started": "2021-08-13T14:28:58.627868Z"
    },
    "papermill": {
     "duration": 0.036477,
     "end_time": "2021-08-14T03:21:37.871881",
     "exception": false,
     "start_time": "2021-08-14T03:21:37.835404",
     "status": "completed"
    },
    "tags": []
   },
   "outputs": [
    {
     "data": {
      "text/plain": [
       "'2.4.1'"
      ]
     },
     "execution_count": 3,
     "metadata": {},
     "output_type": "execute_result"
    }
   ],
   "source": [
    "tf.__version__"
   ]
  },
  {
   "cell_type": "markdown",
   "id": "d3abd755",
   "metadata": {
    "papermill": {
     "duration": 0.023091,
     "end_time": "2021-08-14T03:21:37.919230",
     "exception": false,
     "start_time": "2021-08-14T03:21:37.896139",
     "status": "completed"
    },
    "tags": []
   },
   "source": [
    "## Config"
   ]
  },
  {
   "cell_type": "code",
   "execution_count": 4,
   "id": "32285210",
   "metadata": {
    "execution": {
     "iopub.execute_input": "2021-08-14T03:21:37.974880Z",
     "iopub.status.busy": "2021-08-14T03:21:37.973783Z",
     "iopub.status.idle": "2021-08-14T03:21:37.977265Z",
     "shell.execute_reply": "2021-08-14T03:21:37.976658Z",
     "shell.execute_reply.started": "2021-08-13T14:29:39.494237Z"
    },
    "papermill": {
     "duration": 0.033533,
     "end_time": "2021-08-14T03:21:37.977414",
     "exception": false,
     "start_time": "2021-08-14T03:21:37.943881",
     "status": "completed"
    },
    "tags": []
   },
   "outputs": [],
   "source": [
    "NUM_FOLDS = 4\n",
    "IMAGE_SIZE = 256\n",
    "BATCH_SIZE = 32\n",
    "EFFICIENTNET_SIZE = 7\n",
    "WEIGHTS = \"imagenet\"\n",
    "\n",
    "MIXUP_PROB = 0.0\n",
    "EPOCHS = 20\n",
    "R_ANGLE = 0 / 180 * np.pi\n",
    "S_SHIFT = 0.0\n",
    "T_SHIFT = 0.0\n",
    "LABEL_POSITIVE_SHIFT = 0.99"
   ]
  },
  {
   "cell_type": "code",
   "execution_count": 5,
   "id": "2002b56f",
   "metadata": {
    "execution": {
     "iopub.execute_input": "2021-08-14T03:21:38.031020Z",
     "iopub.status.busy": "2021-08-14T03:21:38.030209Z",
     "iopub.status.idle": "2021-08-14T03:21:38.034465Z",
     "shell.execute_reply": "2021-08-14T03:21:38.033730Z",
     "shell.execute_reply.started": "2021-08-13T14:30:35.748754Z"
    },
    "papermill": {
     "duration": 0.032866,
     "end_time": "2021-08-14T03:21:38.034616",
     "exception": false,
     "start_time": "2021-08-14T03:21:38.001750",
     "status": "completed"
    },
    "tags": []
   },
   "outputs": [],
   "source": [
    "SAVEDIR = Path(\"models\")\n",
    "SAVEDIR.mkdir(exist_ok=True)\n",
    "\n",
    "OOFDIR = Path(\"oof\")\n",
    "OOFDIR.mkdir(exist_ok=True)"
   ]
  },
  {
   "cell_type": "markdown",
   "id": "76d2007f",
   "metadata": {
    "papermill": {
     "duration": 0.023253,
     "end_time": "2021-08-14T03:21:38.082901",
     "exception": false,
     "start_time": "2021-08-14T03:21:38.059648",
     "status": "completed"
    },
    "tags": []
   },
   "source": [
    "## Utilities"
   ]
  },
  {
   "cell_type": "code",
   "execution_count": 6,
   "id": "3ad1bca8",
   "metadata": {
    "execution": {
     "iopub.execute_input": "2021-08-14T03:21:38.136477Z",
     "iopub.status.busy": "2021-08-14T03:21:38.135478Z",
     "iopub.status.idle": "2021-08-14T03:21:38.138777Z",
     "shell.execute_reply": "2021-08-14T03:21:38.138276Z",
     "shell.execute_reply.started": "2021-08-13T14:30:57.215523Z"
    },
    "papermill": {
     "duration": 0.032459,
     "end_time": "2021-08-14T03:21:38.138970",
     "exception": false,
     "start_time": "2021-08-14T03:21:38.106511",
     "status": "completed"
    },
    "tags": []
   },
   "outputs": [],
   "source": [
    "def set_seed(seed=42):\n",
    "    random.seed(seed)\n",
    "    os.environ[\"PYTHONHASHSEED\"] = str(seed)\n",
    "    np.random.seed(seed)\n",
    "    tf.random.set_seed(seed)\n",
    "\n",
    "\n",
    "set_seed(1213)"
   ]
  },
  {
   "cell_type": "code",
   "execution_count": 7,
   "id": "5e9617a0",
   "metadata": {
    "execution": {
     "iopub.execute_input": "2021-08-14T03:21:38.195361Z",
     "iopub.status.busy": "2021-08-14T03:21:38.194322Z",
     "iopub.status.idle": "2021-08-14T03:21:38.197329Z",
     "shell.execute_reply": "2021-08-14T03:21:38.196784Z",
     "shell.execute_reply.started": "2021-08-13T14:31:06.127317Z"
    },
    "papermill": {
     "duration": 0.034099,
     "end_time": "2021-08-14T03:21:38.197482",
     "exception": false,
     "start_time": "2021-08-14T03:21:38.163383",
     "status": "completed"
    },
    "tags": []
   },
   "outputs": [],
   "source": [
    "def auto_select_accelerator():\n",
    "    TPU_DETECTED = False\n",
    "    try:\n",
    "        tpu = tf.distribute.cluster_resolver.TPUClusterResolver()\n",
    "        tf.config.experimental_connect_to_cluster(tpu)\n",
    "        tf.tpu.experimental.initialize_tpu_system(tpu)\n",
    "        strategy = tf.distribute.experimental.TPUStrategy(tpu)\n",
    "        print(\"Running on TPU:\", tpu.master())\n",
    "        TPU_DETECTED = True\n",
    "    except ValueError:\n",
    "        strategy = tf.distribute.get_strategy()\n",
    "    print(f\"Running on {strategy.num_replicas_in_sync} replicas\")\n",
    "\n",
    "    return strategy, TPU_DETECTED"
   ]
  },
  {
   "cell_type": "code",
   "execution_count": 8,
   "id": "af79926c",
   "metadata": {
    "execution": {
     "iopub.execute_input": "2021-08-14T03:21:38.328341Z",
     "iopub.status.busy": "2021-08-14T03:21:38.269544Z",
     "iopub.status.idle": "2021-08-14T03:21:44.552281Z",
     "shell.execute_reply": "2021-08-14T03:21:44.552804Z",
     "shell.execute_reply.started": "2021-08-13T14:31:22.521209Z"
    },
    "papermill": {
     "duration": 6.331911,
     "end_time": "2021-08-14T03:21:44.553018",
     "exception": false,
     "start_time": "2021-08-14T03:21:38.221107",
     "status": "completed"
    },
    "tags": []
   },
   "outputs": [
    {
     "name": "stdout",
     "output_type": "stream",
     "text": [
      "Running on TPU: grpc://10.0.0.2:8470\n",
      "Running on 8 replicas\n"
     ]
    }
   ],
   "source": [
    "strategy, tpu_detected = auto_select_accelerator()\n",
    "AUTO = tf.data.experimental.AUTOTUNE\n",
    "REPLICAS = strategy.num_replicas_in_sync"
   ]
  },
  {
   "cell_type": "markdown",
   "id": "89bd7d53",
   "metadata": {
    "papermill": {
     "duration": 0.024364,
     "end_time": "2021-08-14T03:21:44.601420",
     "exception": false,
     "start_time": "2021-08-14T03:21:44.577056",
     "status": "completed"
    },
    "tags": []
   },
   "source": [
    "## Data Loading"
   ]
  },
  {
   "cell_type": "code",
   "execution_count": 9,
   "id": "23d7d8d6",
   "metadata": {
    "execution": {
     "iopub.execute_input": "2021-08-14T03:21:44.653557Z",
     "iopub.status.busy": "2021-08-14T03:21:44.652844Z",
     "iopub.status.idle": "2021-08-14T03:21:46.397374Z",
     "shell.execute_reply": "2021-08-14T03:21:46.397856Z",
     "shell.execute_reply.started": "2021-08-13T14:33:26.735358Z"
    },
    "papermill": {
     "duration": 1.771755,
     "end_time": "2021-08-14T03:21:46.398061",
     "exception": false,
     "start_time": "2021-08-14T03:21:44.626306",
     "status": "completed"
    },
    "tags": []
   },
   "outputs": [
    {
     "name": "stdout",
     "output_type": "stream",
     "text": [
      "gs://kds-43fefac8f343d9f8da0a5410d05d767d573979ec1ae47ce48623c21a\n",
      "gs://kds-bc9220faa6dec75bcf9f132b59a00137a7b8bf521231a78f9b2deb80\n",
      "gs://kds-20655d78c4f3ab25a78f671065d9f1d60a6219f31deab9367a1f19e7\n",
      "gs://kds-ecd5226e83bfa009993743d8203c1c1ed34bdcb09f1bc863c1998059\n"
     ]
    }
   ],
   "source": [
    "gcs_paths = []\n",
    "for i, j in [(0, 4), (5, 9), (10, 14), (15, 19)]:\n",
    "    GCS_path = KaggleDatasets().get_gcs_path(f\"g2net-waveform-tfrecords-train-{i}-{j}\")\n",
    "    gcs_paths.append(GCS_path)\n",
    "    print(GCS_path)"
   ]
  },
  {
   "cell_type": "code",
   "execution_count": 10,
   "id": "e64abc6f",
   "metadata": {
    "execution": {
     "iopub.execute_input": "2021-08-14T03:21:46.454971Z",
     "iopub.status.busy": "2021-08-14T03:21:46.454247Z",
     "iopub.status.idle": "2021-08-14T03:21:46.757209Z",
     "shell.execute_reply": "2021-08-14T03:21:46.757997Z",
     "shell.execute_reply.started": "2021-08-13T14:33:39.324965Z"
    },
    "papermill": {
     "duration": 0.334482,
     "end_time": "2021-08-14T03:21:46.758243",
     "exception": false,
     "start_time": "2021-08-14T03:21:46.423761",
     "status": "completed"
    },
    "tags": []
   },
   "outputs": [
    {
     "name": "stdout",
     "output_type": "stream",
     "text": [
      "train_files:  20\n"
     ]
    }
   ],
   "source": [
    "all_files = []\n",
    "for path in gcs_paths:\n",
    "    all_files.extend(np.sort(np.array(tf.io.gfile.glob(path + \"/train*.tfrecords\"))))\n",
    "\n",
    "print(\"train_files: \", len(all_files))"
   ]
  },
  {
   "cell_type": "markdown",
   "id": "435ab0d8",
   "metadata": {
    "papermill": {
     "duration": 0.025659,
     "end_time": "2021-08-14T03:21:46.809989",
     "exception": false,
     "start_time": "2021-08-14T03:21:46.784330",
     "status": "completed"
    },
    "tags": []
   },
   "source": [
    "## Dataset Preparation\n",
    "\n",
    "Here's the main contribution of this notebook - Tensorflow version of on-the-fly CQT computation. Note that some of the operations used in CQT computation are not supported by TPU, therefore the implementation is not a TF layer but a function that runs on CPU."
   ]
  },
  {
   "cell_type": "code",
   "execution_count": 11,
   "id": "abd546b7",
   "metadata": {
    "execution": {
     "iopub.execute_input": "2021-08-14T03:21:46.870128Z",
     "iopub.status.busy": "2021-08-14T03:21:46.869184Z",
     "iopub.status.idle": "2021-08-14T03:21:46.883461Z",
     "shell.execute_reply": "2021-08-14T03:21:46.882822Z",
     "shell.execute_reply.started": "2021-08-13T14:35:52.659171Z"
    },
    "papermill": {
     "duration": 0.048332,
     "end_time": "2021-08-14T03:21:46.883605",
     "exception": false,
     "start_time": "2021-08-14T03:21:46.835273",
     "status": "completed"
    },
    "tags": []
   },
   "outputs": [],
   "source": [
    "def create_cqt_kernels(\n",
    "    q: float,\n",
    "    fs: float,\n",
    "    fmin: float,\n",
    "    n_bins: int = 84,\n",
    "    bins_per_octave: int = 12,\n",
    "    norm: float = 1,\n",
    "    window: str = \"hann\",\n",
    "    fmax: Optional[float] = None,\n",
    "    topbin_check: bool = True\n",
    ") -> Tuple[np.ndarray, int, np.ndarray, float]:\n",
    "    fft_len = 2 ** _nextpow2(np.ceil(q * fs / fmin))\n",
    "    \n",
    "    if (fmax is not None) and (n_bins is None):\n",
    "        n_bins = np.ceil(bins_per_octave * np.log2(fmax / fmin))\n",
    "        freqs = fmin * 2.0 ** (np.r_[0:n_bins] / np.float(bins_per_octave))\n",
    "    elif (fmax is None) and (n_bins is not None):\n",
    "        freqs = fmin * 2.0 ** (np.r_[0:n_bins] / np.float(bins_per_octave))\n",
    "    else:\n",
    "        warnings.warn(\"If nmax is given, n_bins will be ignored\", SyntaxWarning)\n",
    "        n_bins = np.ceil(bins_per_octave * np.log2(fmax / fmin))\n",
    "        freqs = fmin * 2.0 ** (np.r_[0:n_bins] / np.float(bins_per_octave))\n",
    "        \n",
    "    if np.max(freqs) > fs / 2 and topbin_check:\n",
    "        raise ValueError(f\"The top bin {np.max(freqs)} Hz has exceeded the Nyquist frequency, \\\n",
    "                           please reduce the `n_bins`\")\n",
    "    \n",
    "    kernel = np.zeros((int(n_bins), int(fft_len)), dtype=np.complex64)\n",
    "    \n",
    "    length = np.ceil(q * fs / freqs)\n",
    "    for k in range(0, int(n_bins)):\n",
    "        freq = freqs[k]\n",
    "        l = np.ceil(q * fs / freq)\n",
    "        \n",
    "        if l % 2 == 1:\n",
    "            start = int(np.ceil(fft_len / 2.0 - l / 2.0)) - 1\n",
    "        else:\n",
    "            start = int(np.ceil(fft_len / 2.0 - l / 2.0))\n",
    "\n",
    "        sig = get_window(window, int(l), fftbins=True) * np.exp(\n",
    "            np.r_[-l // 2:l // 2] * 1j * 2 * np.pi * freq / fs) / l\n",
    "        \n",
    "        if norm:\n",
    "            kernel[k, start:start + int(l)] = sig / np.linalg.norm(sig, norm)\n",
    "        else:\n",
    "            kernel[k, start:start + int(l)] = sig\n",
    "    return kernel, fft_len, length, freqs\n",
    "\n",
    "\n",
    "def _nextpow2(a: float) -> int:\n",
    "    return int(np.ceil(np.log2(a)))\n",
    "\n",
    "\n",
    "def prepare_cqt_kernel(\n",
    "    sr=22050,\n",
    "    hop_length=512,\n",
    "    fmin=32.70,\n",
    "    fmax=None,\n",
    "    n_bins=84,\n",
    "    bins_per_octave=12,\n",
    "    norm=1,\n",
    "    filter_scale=1,\n",
    "    window=\"hann\"\n",
    "):\n",
    "    q = float(filter_scale) / (2 ** (1 / bins_per_octave) - 1)\n",
    "    print(q)\n",
    "    return create_cqt_kernels(q, sr, fmin, n_bins, bins_per_octave, norm, window, fmax)"
   ]
  },
  {
   "cell_type": "code",
   "execution_count": 12,
   "id": "b23131f1",
   "metadata": {
    "execution": {
     "iopub.execute_input": "2021-08-14T03:21:46.945256Z",
     "iopub.status.busy": "2021-08-14T03:21:46.944423Z",
     "iopub.status.idle": "2021-08-14T03:21:47.012211Z",
     "shell.execute_reply": "2021-08-14T03:21:47.010651Z",
     "shell.execute_reply.started": "2021-08-13T14:36:08.796878Z"
    },
    "papermill": {
     "duration": 0.102682,
     "end_time": "2021-08-14T03:21:47.012427",
     "exception": false,
     "start_time": "2021-08-14T03:21:46.909745",
     "status": "completed"
    },
    "tags": []
   },
   "outputs": [
    {
     "name": "stdout",
     "output_type": "stream",
     "text": [
      "34.12708770892056\n"
     ]
    },
    {
     "name": "stderr",
     "output_type": "stream",
     "text": [
      "/opt/conda/lib/python3.7/site-packages/ipykernel_launcher.py:20: SyntaxWarning: If nmax is given, n_bins will be ignored\n"
     ]
    }
   ],
   "source": [
    "HOP_LENGTH = 16\n",
    "cqt_kernels, KERNEL_WIDTH, lengths, _ = prepare_cqt_kernel(\n",
    "    sr=2048,\n",
    "    hop_length=HOP_LENGTH,\n",
    "    fmin=20,\n",
    "    fmax=1024,\n",
    "    bins_per_octave=24)\n",
    "LENGTHS = tf.constant(lengths, dtype=tf.float32)\n",
    "CQT_KERNELS_REAL = tf.constant(np.swapaxes(cqt_kernels.real[:, np.newaxis, :], 0, 2))\n",
    "CQT_KERNELS_IMAG = tf.constant(np.swapaxes(cqt_kernels.imag[:, np.newaxis, :], 0, 2))\n",
    "PADDING = tf.constant([[0, 0],\n",
    "                        [KERNEL_WIDTH // 2, KERNEL_WIDTH // 2],\n",
    "                        [0, 0]])"
   ]
  },
  {
   "cell_type": "code",
   "execution_count": 13,
   "id": "44c073b3",
   "metadata": {
    "execution": {
     "iopub.execute_input": "2021-08-14T03:21:47.083530Z",
     "iopub.status.busy": "2021-08-14T03:21:47.082779Z",
     "iopub.status.idle": "2021-08-14T03:21:47.085847Z",
     "shell.execute_reply": "2021-08-14T03:21:47.085345Z",
     "shell.execute_reply.started": "2021-08-13T14:36:23.457264Z"
    },
    "papermill": {
     "duration": 0.037214,
     "end_time": "2021-08-14T03:21:47.086012",
     "exception": false,
     "start_time": "2021-08-14T03:21:47.048798",
     "status": "completed"
    },
    "tags": []
   },
   "outputs": [],
   "source": [
    "def create_cqt_image(wave, hop_length=16):\n",
    "    CQTs = []\n",
    "    for i in range(3):\n",
    "        x = wave[i]\n",
    "        x = tf.expand_dims(tf.expand_dims(x, 0), 2)\n",
    "        x = tf.pad(x, PADDING, \"REFLECT\")\n",
    "\n",
    "        CQT_real = tf.nn.conv1d(x, CQT_KERNELS_REAL, stride=hop_length, padding=\"VALID\")\n",
    "        CQT_imag = -tf.nn.conv1d(x, CQT_KERNELS_IMAG, stride=hop_length, padding=\"VALID\")\n",
    "        CQT_real *= tf.math.sqrt(LENGTHS)\n",
    "        CQT_imag *= tf.math.sqrt(LENGTHS)\n",
    "\n",
    "        CQT = tf.math.sqrt(tf.pow(CQT_real, 2) + tf.pow(CQT_imag, 2))\n",
    "        CQTs.append(CQT[0])\n",
    "    return tf.stack(CQTs, axis=2)"
   ]
  },
  {
   "cell_type": "code",
   "execution_count": 14,
   "id": "5427d834",
   "metadata": {
    "execution": {
     "iopub.execute_input": "2021-08-14T03:21:47.172362Z",
     "iopub.status.busy": "2021-08-14T03:21:47.142943Z",
     "iopub.status.idle": "2021-08-14T03:21:47.174936Z",
     "shell.execute_reply": "2021-08-14T03:21:47.175446Z",
     "shell.execute_reply.started": "2021-08-13T14:36:40.632207Z"
    },
    "papermill": {
     "duration": 0.063115,
     "end_time": "2021-08-14T03:21:47.175636",
     "exception": false,
     "start_time": "2021-08-14T03:21:47.112521",
     "status": "completed"
    },
    "tags": []
   },
   "outputs": [],
   "source": [
    "def read_labeled_tfrecord(example):\n",
    "    tfrec_format = {\n",
    "        \"wave\": tf.io.FixedLenFeature([], tf.string),\n",
    "        \"wave_id\": tf.io.FixedLenFeature([], tf.string),\n",
    "        \"target\": tf.io.FixedLenFeature([], tf.int64)\n",
    "    }\n",
    "    example = tf.io.parse_single_example(example, tfrec_format)\n",
    "    return prepare_image(example[\"wave\"], IMAGE_SIZE), tf.reshape(tf.cast(example[\"target\"], tf.float32), [1])\n",
    "\n",
    "\n",
    "def read_unlabeled_tfrecord(example, return_image_id):\n",
    "    tfrec_format = {\n",
    "        \"wave\": tf.io.FixedLenFeature([], tf.string),\n",
    "        \"wave_id\": tf.io.FixedLenFeature([], tf.string)\n",
    "    }\n",
    "    example = tf.io.parse_single_example(example, tfrec_format)\n",
    "    return prepare_image(example[\"wave\"], IMAGE_SIZE), example[\"wave_id\"] if return_image_id else 0\n",
    "\n",
    "\n",
    "def count_data_items(fileids):\n",
    "    return len(fileids) * 28000\n",
    "\n",
    "\n",
    "def count_data_items_test(fileids):\n",
    "    return len(fileids) * 22600\n",
    "\n",
    "\n",
    "def mixup(image, label, probability=0.5, aug_batch=64 * 8):\n",
    "    imgs = []\n",
    "    labs = []\n",
    "    for j in range(aug_batch):\n",
    "        p = tf.cast(tf.random.uniform([], 0, 1) <= probability, tf.float32)\n",
    "        k = tf.cast(tf.random.uniform([], 0, aug_batch), tf.int32)\n",
    "        a = tf.random.uniform([], 0, 1) * p\n",
    "\n",
    "        img1 = image[j]\n",
    "        img2 = image[k]\n",
    "        imgs.append((1 - a) * img1 + a * img2)\n",
    "        lab1 = label[j]\n",
    "        lab2 = label[k]\n",
    "        labs.append((1 - a) * lab1 + a * lab2)\n",
    "    image2 = tf.reshape(tf.stack(imgs), (aug_batch, IMAGE_SIZE, IMAGE_SIZE, 3))\n",
    "    label2 = tf.reshape(tf.stack(labs), (aug_batch,))\n",
    "    return image2, label2\n",
    "\n",
    "\n",
    "def time_shift(img, shift=T_SHIFT):\n",
    "    if shift > 0:\n",
    "        T = IMAGE_SIZE\n",
    "        P = tf.random.uniform([],0,1)\n",
    "        SHIFT = tf.cast(T * P, tf.int32)\n",
    "        return tf.concat([img[-SHIFT:], img[:-SHIFT]], axis=0)\n",
    "    return img\n",
    "\n",
    "\n",
    "def rotate(img, angle=R_ANGLE):\n",
    "    if angle > 0:\n",
    "        P = tf.random.uniform([],0,1)\n",
    "        A = tf.cast(angle * P, tf.float32)\n",
    "        return tfa.image.rotate(img, A)\n",
    "    return img\n",
    "\n",
    "\n",
    "def spector_shift(img, shift=S_SHIFT):\n",
    "    if shift > 0:\n",
    "        T = IMAGE_SIZE\n",
    "        P = tf.random.uniform([],0,1)\n",
    "        SHIFT = tf.cast(T * P, tf.int32)\n",
    "        return tf.concat([img[:, -SHIFT:], img[:, :-SHIFT]], axis=1)\n",
    "    return img\n",
    "\n",
    "def img_aug_f(img):\n",
    "    img = time_shift(img)\n",
    "    img = spector_shift(img)\n",
    "    # img = rotate(img)\n",
    "    return img\n",
    "\n",
    "\n",
    "def imgs_aug_f(imgs, batch_size):\n",
    "    _imgs = []\n",
    "    DIM = IMAGE_SIZE\n",
    "    for j in range(batch_size):\n",
    "        _imgs.append(img_aug_f(imgs[j]))\n",
    "    return tf.reshape(tf.stack(_imgs),(batch_size,DIM,DIM,3))\n",
    "\n",
    "\n",
    "def label_positive_shift(labels):\n",
    "    return labels * LABEL_POSITIVE_SHIFT\n",
    "\n",
    "\n",
    "def aug_f(imgs, labels, batch_size):\n",
    "    imgs, label = mixup(imgs, labels, MIXUP_PROB, batch_size)\n",
    "    imgs = imgs_aug_f(imgs, batch_size)\n",
    "    return imgs, label_positive_shift(label)\n",
    "\n",
    "\n",
    "def prepare_image(wave, dim=256):\n",
    "    wave = tf.reshape(tf.io.decode_raw(wave, tf.float64), (3, 4096))\n",
    "    normalized_waves = []\n",
    "    for i in range(3):\n",
    "        normalized_wave = wave[i] / tf.math.reduce_max(wave[i])\n",
    "        normalized_waves.append(normalized_wave)\n",
    "    wave = tf.stack(normalized_waves)\n",
    "    wave = tf.cast(wave, tf.float32)\n",
    "    image = create_cqt_image(wave, HOP_LENGTH)\n",
    "    image = tf.image.resize(image, size=(dim, dim))\n",
    "    return tf.reshape(image, (dim, dim, 3))\n",
    "\n",
    "\n",
    "def get_dataset(files, batch_size=16, repeat=False, shuffle=False, aug=True, labeled=True, return_image_ids=True):\n",
    "    ds = tf.data.TFRecordDataset(files, num_parallel_reads=AUTO, compression_type=\"GZIP\")\n",
    "    ds = ds.cache()\n",
    "\n",
    "    if repeat:\n",
    "        ds = ds.repeat()\n",
    "\n",
    "    if shuffle:\n",
    "        ds = ds.shuffle(1024 * 2)\n",
    "        opt = tf.data.Options()\n",
    "        opt.experimental_deterministic = False\n",
    "        ds = ds.with_options(opt)\n",
    "\n",
    "    if labeled:\n",
    "        ds = ds.map(read_labeled_tfrecord, num_parallel_calls=AUTO)\n",
    "    else:\n",
    "        ds = ds.map(lambda example: read_unlabeled_tfrecord(example, return_image_ids), num_parallel_calls=AUTO)\n",
    "\n",
    "    ds = ds.batch(batch_size * REPLICAS)\n",
    "    if aug:\n",
    "        ds = ds.map(lambda x, y: aug_f(x, y, batch_size * REPLICAS), num_parallel_calls=AUTO)\n",
    "    ds = ds.prefetch(AUTO)\n",
    "    return ds"
   ]
  },
  {
   "cell_type": "markdown",
   "id": "c19fb098",
   "metadata": {
    "papermill": {
     "duration": 0.026736,
     "end_time": "2021-08-14T03:21:47.228345",
     "exception": false,
     "start_time": "2021-08-14T03:21:47.201609",
     "status": "completed"
    },
    "tags": []
   },
   "source": [
    "## Model"
   ]
  },
  {
   "cell_type": "code",
   "execution_count": 15,
   "id": "b2328882",
   "metadata": {
    "execution": {
     "iopub.execute_input": "2021-08-14T03:21:47.289227Z",
     "iopub.status.busy": "2021-08-14T03:21:47.288225Z",
     "iopub.status.idle": "2021-08-14T03:21:47.297531Z",
     "shell.execute_reply": "2021-08-14T03:21:47.298092Z",
     "shell.execute_reply.started": "2021-08-13T14:37:09.546498Z"
    },
    "papermill": {
     "duration": 0.041171,
     "end_time": "2021-08-14T03:21:47.298274",
     "exception": false,
     "start_time": "2021-08-14T03:21:47.257103",
     "status": "completed"
    },
    "tags": []
   },
   "outputs": [],
   "source": [
    "def build_model(size=256, efficientnet_size=0, weights=\"imagenet\", count=0):\n",
    "    inputs = tf.keras.layers.Input(shape=(size, size, 3))\n",
    "    \n",
    "    efn_string= f\"EfficientNetB{efficientnet_size}\"\n",
    "    efn_layer = getattr(efn, efn_string)(input_shape=(size, size, 3), weights=weights, include_top=False)\n",
    "\n",
    "    x = efn_layer(inputs)\n",
    "    x = tf.keras.layers.GlobalAveragePooling2D()(x)\n",
    "\n",
    "    x = tf.keras.layers.Dropout(0.2)(x)\n",
    "    x = tf.keras.layers.Dense(1, activation=\"sigmoid\")(x)\n",
    "    model = tf.keras.Model(inputs=inputs, outputs=x)\n",
    "\n",
    "    lr_decayed_fn = tf.keras.experimental.CosineDecay(1e-3, count)\n",
    "    opt = tfa.optimizers.AdamW(lr_decayed_fn, learning_rate=1e-4)\n",
    "    loss = tf.keras.losses.BinaryCrossentropy()\n",
    "    model.compile(optimizer=opt, loss=loss, metrics=[\"AUC\"])\n",
    "    return model"
   ]
  },
  {
   "cell_type": "code",
   "execution_count": 16,
   "id": "20f087fa",
   "metadata": {
    "execution": {
     "iopub.execute_input": "2021-08-14T03:21:47.356496Z",
     "iopub.status.busy": "2021-08-14T03:21:47.355453Z",
     "iopub.status.idle": "2021-08-14T03:21:47.362944Z",
     "shell.execute_reply": "2021-08-14T03:21:47.363457Z",
     "shell.execute_reply.started": "2021-08-13T14:37:20.515265Z"
    },
    "papermill": {
     "duration": 0.038431,
     "end_time": "2021-08-14T03:21:47.363664",
     "exception": false,
     "start_time": "2021-08-14T03:21:47.325233",
     "status": "completed"
    },
    "tags": []
   },
   "outputs": [],
   "source": [
    "def get_lr_callback(batch_size=8, replicas=8):\n",
    "    lr_start   = 1e-4\n",
    "    lr_max     = 0.000015 * replicas * batch_size\n",
    "    lr_min     = 1e-7\n",
    "    lr_ramp_ep = 3\n",
    "    lr_sus_ep  = 0\n",
    "    lr_decay   = 0.7\n",
    "   \n",
    "    def lrfn(epoch):\n",
    "        if epoch < lr_ramp_ep:\n",
    "            lr = (lr_max - lr_start) / lr_ramp_ep * epoch + lr_start\n",
    "            \n",
    "        elif epoch < lr_ramp_ep + lr_sus_ep:\n",
    "            lr = lr_max\n",
    "            \n",
    "        else:\n",
    "            lr = (lr_max - lr_min) * lr_decay**(epoch - lr_ramp_ep - lr_sus_ep) + lr_min\n",
    "            \n",
    "        return lr\n",
    "\n",
    "    lr_callback = tf.keras.callbacks.LearningRateScheduler(lrfn, verbose=True)\n",
    "    return lr_callback"
   ]
  },
  {
   "cell_type": "markdown",
   "id": "d03956e7",
   "metadata": {
    "papermill": {
     "duration": 0.025989,
     "end_time": "2021-08-14T03:21:47.416764",
     "exception": false,
     "start_time": "2021-08-14T03:21:47.390775",
     "status": "completed"
    },
    "tags": []
   },
   "source": [
    "## Training"
   ]
  },
  {
   "cell_type": "code",
   "execution_count": 17,
   "id": "13be6a5c",
   "metadata": {
    "execution": {
     "iopub.execute_input": "2021-08-14T03:21:47.474034Z",
     "iopub.status.busy": "2021-08-14T03:21:47.472750Z",
     "iopub.status.idle": "2021-08-14T03:21:47.478270Z",
     "shell.execute_reply": "2021-08-14T03:21:47.478756Z",
     "shell.execute_reply.started": "2021-08-13T14:37:39.542538Z"
    },
    "papermill": {
     "duration": 0.035519,
     "end_time": "2021-08-14T03:21:47.478963",
     "exception": false,
     "start_time": "2021-08-14T03:21:47.443444",
     "status": "completed"
    },
    "tags": []
   },
   "outputs": [],
   "source": [
    "kf = KFold(n_splits=NUM_FOLDS, shuffle=True, random_state=1213)\n",
    "oof_pred = []\n",
    "oof_target = []\n",
    "\n",
    "files_train_all = np.array(all_files)"
   ]
  },
  {
   "cell_type": "code",
   "execution_count": 18,
   "id": "2e5fe3d4",
   "metadata": {
    "execution": {
     "iopub.execute_input": "2021-08-14T03:21:47.537033Z",
     "iopub.status.busy": "2021-08-14T03:21:47.535849Z",
     "iopub.status.idle": "2021-08-14T09:51:31.679562Z",
     "shell.execute_reply": "2021-08-14T09:51:31.677363Z",
     "shell.execute_reply.started": "2021-08-13T14:38:04.590308Z"
    },
    "papermill": {
     "duration": 23384.174089,
     "end_time": "2021-08-14T09:51:31.679716",
     "exception": false,
     "start_time": "2021-08-14T03:21:47.505627",
     "status": "completed"
    },
    "tags": []
   },
   "outputs": [
    {
     "name": "stdout",
     "output_type": "stream",
     "text": [
      "========================================================================================================================\n",
      "Fold 0\n",
      "========================================================================================================================\n",
      "Running on TPU: grpc://10.0.0.2:8470\n",
      "Running on 8 replicas\n",
      "Downloading data from https://github.com/Callidior/keras-applications/releases/download/efficientnet/efficientnet-b7_weights_tf_dim_ordering_tf_kernels_autoaugment_notop.h5\n",
      "258441216/258434480 [==============================] - 4s 0us/step\n",
      "Epoch 1/20\n",
      "\n",
      "Epoch 00001: LearningRateScheduler reducing learning rate to 0.0001.\n",
      "410/410 [==============================] - 565s 746ms/step - loss: 0.5921 - auc: 0.7136 - val_loss: 0.6883 - val_auc: 0.5950\n",
      "\n",
      "Epoch 00001: val_auc improved from -inf to 0.59495, saving model to models/fold0.h5\n",
      "Epoch 2/20\n",
      "\n",
      "Epoch 00002: LearningRateScheduler reducing learning rate to 0.0013466666666666668.\n",
      "410/410 [==============================] - 249s 609ms/step - loss: 0.5121 - auc: 0.8073 - val_loss: 0.4739 - val_auc: 0.8472\n",
      "\n",
      "Epoch 00002: val_auc improved from 0.59495 to 0.84719, saving model to models/fold0.h5\n",
      "Epoch 3/20\n",
      "\n",
      "Epoch 00003: LearningRateScheduler reducing learning rate to 0.0025933333333333333.\n",
      "410/410 [==============================] - 250s 611ms/step - loss: 0.4798 - auc: 0.8322 - val_loss: 0.5508 - val_auc: 0.8369\n",
      "\n",
      "Epoch 00003: val_auc did not improve from 0.84719\n",
      "Epoch 4/20\n",
      "\n",
      "Epoch 00004: LearningRateScheduler reducing learning rate to 0.00384.\n",
      "410/410 [==============================] - 250s 609ms/step - loss: 0.4742 - auc: 0.8378 - val_loss: 0.7092 - val_auc: 0.8375\n",
      "\n",
      "Epoch 00004: val_auc did not improve from 0.84719\n",
      "Epoch 5/20\n",
      "\n",
      "Epoch 00005: LearningRateScheduler reducing learning rate to 0.0026880299999999997.\n",
      "410/410 [==============================] - 249s 607ms/step - loss: 0.4594 - auc: 0.8484 - val_loss: 0.5153 - val_auc: 0.8517\n",
      "\n",
      "Epoch 00005: val_auc improved from 0.84719 to 0.85172, saving model to models/fold0.h5\n",
      "Epoch 6/20\n",
      "\n",
      "Epoch 00006: LearningRateScheduler reducing learning rate to 0.001881651.\n",
      "410/410 [==============================] - 249s 608ms/step - loss: 0.4506 - auc: 0.8540 - val_loss: 0.5026 - val_auc: 0.8590\n",
      "\n",
      "Epoch 00006: val_auc improved from 0.85172 to 0.85898, saving model to models/fold0.h5\n",
      "Epoch 7/20\n",
      "\n",
      "Epoch 00007: LearningRateScheduler reducing learning rate to 0.0013171856999999998.\n",
      "410/410 [==============================] - 250s 609ms/step - loss: 0.4458 - auc: 0.8567 - val_loss: 0.4523 - val_auc: 0.8518\n",
      "\n",
      "Epoch 00007: val_auc did not improve from 0.85898\n",
      "Epoch 8/20\n",
      "\n",
      "Epoch 00008: LearningRateScheduler reducing learning rate to 0.0009220599899999999.\n",
      "410/410 [==============================] - 249s 608ms/step - loss: 0.4421 - auc: 0.8602 - val_loss: 0.4466 - val_auc: 0.8631\n",
      "\n",
      "Epoch 00008: val_auc improved from 0.85898 to 0.86312, saving model to models/fold0.h5\n",
      "Epoch 9/20\n",
      "\n",
      "Epoch 00009: LearningRateScheduler reducing learning rate to 0.0006454719929999997.\n",
      "410/410 [==============================] - 250s 609ms/step - loss: 0.4348 - auc: 0.8641 - val_loss: 0.4399 - val_auc: 0.8642\n",
      "\n",
      "Epoch 00009: val_auc improved from 0.86312 to 0.86416, saving model to models/fold0.h5\n",
      "Epoch 10/20\n",
      "\n",
      "Epoch 00010: LearningRateScheduler reducing learning rate to 0.00045186039509999986.\n",
      "410/410 [==============================] - 250s 610ms/step - loss: 0.4339 - auc: 0.8654 - val_loss: 0.4270 - val_auc: 0.8644\n",
      "\n",
      "Epoch 00010: val_auc improved from 0.86416 to 0.86440, saving model to models/fold0.h5\n",
      "Epoch 11/20\n",
      "\n",
      "Epoch 00011: LearningRateScheduler reducing learning rate to 0.00031633227656999987.\n",
      "410/410 [==============================] - 252s 614ms/step - loss: 0.4333 - auc: 0.8649 - val_loss: 0.4238 - val_auc: 0.8654\n",
      "\n",
      "Epoch 00011: val_auc improved from 0.86440 to 0.86543, saving model to models/fold0.h5\n",
      "Epoch 12/20\n",
      "\n",
      "Epoch 00012: LearningRateScheduler reducing learning rate to 0.0002214625935989999.\n",
      "410/410 [==============================] - 250s 611ms/step - loss: 0.4296 - auc: 0.8681 - val_loss: 0.4274 - val_auc: 0.8654\n",
      "\n",
      "Epoch 00012: val_auc did not improve from 0.86543\n",
      "Epoch 13/20\n",
      "\n",
      "Epoch 00013: LearningRateScheduler reducing learning rate to 0.00015505381551929993.\n",
      "410/410 [==============================] - 250s 610ms/step - loss: 0.4240 - auc: 0.8714 - val_loss: 0.4224 - val_auc: 0.8662\n",
      "\n",
      "Epoch 00013: val_auc improved from 0.86543 to 0.86619, saving model to models/fold0.h5\n",
      "Epoch 14/20\n",
      "\n",
      "Epoch 00014: LearningRateScheduler reducing learning rate to 0.00010856767086350995.\n",
      "410/410 [==============================] - 250s 610ms/step - loss: 0.4270 - auc: 0.8695 - val_loss: 0.4215 - val_auc: 0.8664\n",
      "\n",
      "Epoch 00014: val_auc improved from 0.86619 to 0.86639, saving model to models/fold0.h5\n",
      "Epoch 15/20\n",
      "\n",
      "Epoch 00015: LearningRateScheduler reducing learning rate to 7.602736960445695e-05.\n",
      "410/410 [==============================] - 249s 609ms/step - loss: 0.4234 - auc: 0.8717 - val_loss: 0.4213 - val_auc: 0.8665\n",
      "\n",
      "Epoch 00015: val_auc improved from 0.86639 to 0.86655, saving model to models/fold0.h5\n",
      "Epoch 16/20\n",
      "\n",
      "Epoch 00016: LearningRateScheduler reducing learning rate to 5.324915872311987e-05.\n",
      "410/410 [==============================] - 250s 610ms/step - loss: 0.4242 - auc: 0.8718 - val_loss: 0.4210 - val_auc: 0.8663\n",
      "\n",
      "Epoch 00016: val_auc did not improve from 0.86655\n",
      "Epoch 17/20\n",
      "\n",
      "Epoch 00017: LearningRateScheduler reducing learning rate to 3.7304411106183906e-05.\n",
      "410/410 [==============================] - 249s 608ms/step - loss: 0.4194 - auc: 0.8740 - val_loss: 0.4204 - val_auc: 0.8667\n",
      "\n",
      "Epoch 00017: val_auc improved from 0.86655 to 0.86668, saving model to models/fold0.h5\n",
      "Epoch 18/20\n",
      "\n",
      "Epoch 00018: LearningRateScheduler reducing learning rate to 2.614308777432873e-05.\n",
      "410/410 [==============================] - 249s 609ms/step - loss: 0.4210 - auc: 0.8732 - val_loss: 0.4205 - val_auc: 0.8667\n",
      "\n",
      "Epoch 00018: val_auc did not improve from 0.86668\n",
      "Epoch 19/20\n",
      "\n",
      "Epoch 00019: LearningRateScheduler reducing learning rate to 1.833016144203011e-05.\n",
      "410/410 [==============================] - 250s 609ms/step - loss: 0.4197 - auc: 0.8740 - val_loss: 0.4208 - val_auc: 0.8666\n",
      "\n",
      "Epoch 00019: val_auc did not improve from 0.86668\n",
      "Epoch 20/20\n",
      "\n",
      "Epoch 00020: LearningRateScheduler reducing learning rate to 1.2861113009421077e-05.\n",
      "410/410 [==============================] - 249s 609ms/step - loss: 0.4200 - auc: 0.8747 - val_loss: 0.4204 - val_auc: 0.8665\n",
      "\n",
      "Epoch 00020: val_auc did not improve from 0.86668\n",
      "Loading best model...\n"
     ]
    },
    {
     "name": "stderr",
     "output_type": "stream",
     "text": [
      "/opt/conda/lib/python3.7/site-packages/seaborn/distributions.py:2557: FutureWarning: `distplot` is a deprecated function and will be removed in a future version. Please adapt your code to use either `displot` (a figure-level function with similar flexibility) or `histplot` (an axes-level function for histograms).\n",
      "  warnings.warn(msg, FutureWarning)\n"
     ]
    },
    {
     "data": {
      "image/png": "[encoded data removed]",
      "text/plain": [
       "<Figure size 576x432 with 1 Axes>"
      ]
     },
     "metadata": {
      "needs_background": "light"
     },
     "output_type": "display_data"
    },
    {
     "data": {
      "image/png": "[encoded data removed]",
      "text/plain": [
       "<Figure size 1080x360 with 2 Axes>"
      ]
     },
     "metadata": {
      "needs_background": "light"
     },
     "output_type": "display_data"
    },
    {
     "name": "stdout",
     "output_type": "stream",
     "text": [
      "========================================================================================================================\n",
      "Fold 1\n",
      "========================================================================================================================\n",
      "Running on TPU: grpc://10.0.0.2:8470\n",
      "Running on 8 replicas\n",
      "Epoch 1/20\n",
      "\n",
      "Epoch 00001: LearningRateScheduler reducing learning rate to 0.0001.\n",
      "410/410 [==============================] - 539s 659ms/step - loss: 0.5928 - auc: 0.7143 - val_loss: 0.7154 - val_auc: 0.6215\n",
      "\n",
      "Epoch 00001: val_auc improved from -inf to 0.62155, saving model to models/fold1.h5\n",
      "Epoch 2/20\n",
      "\n",
      "Epoch 00002: LearningRateScheduler reducing learning rate to 0.0013466666666666668.\n",
      "410/410 [==============================] - 251s 613ms/step - loss: 0.5126 - auc: 0.8064 - val_loss: 0.4811 - val_auc: 0.8401\n",
      "\n",
      "Epoch 00002: val_auc improved from 0.62155 to 0.84014, saving model to models/fold1.h5\n",
      "Epoch 3/20\n",
      "\n",
      "Epoch 00003: LearningRateScheduler reducing learning rate to 0.0025933333333333333.\n",
      "410/410 [==============================] - 252s 614ms/step - loss: 0.4822 - auc: 0.8316 - val_loss: 0.4960 - val_auc: 0.8486\n",
      "\n",
      "Epoch 00003: val_auc improved from 0.84014 to 0.84858, saving model to models/fold1.h5\n",
      "Epoch 4/20\n",
      "\n",
      "Epoch 00004: LearningRateScheduler reducing learning rate to 0.00384.\n",
      "410/410 [==============================] - 252s 614ms/step - loss: 0.4725 - auc: 0.8385 - val_loss: 0.6881 - val_auc: 0.8425\n",
      "\n",
      "Epoch 00004: val_auc did not improve from 0.84858\n",
      "Epoch 5/20\n",
      "\n",
      "Epoch 00005: LearningRateScheduler reducing learning rate to 0.0026880299999999997.\n",
      "410/410 [==============================] - 251s 614ms/step - loss: 0.4556 - auc: 0.8504 - val_loss: 0.4575 - val_auc: 0.8484\n",
      "\n",
      "Epoch 00005: val_auc did not improve from 0.84858\n",
      "Epoch 6/20\n",
      "\n",
      "Epoch 00006: LearningRateScheduler reducing learning rate to 0.001881651.\n",
      "410/410 [==============================] - 251s 612ms/step - loss: 0.4471 - auc: 0.8561 - val_loss: 0.4453 - val_auc: 0.8542\n",
      "\n",
      "Epoch 00006: val_auc improved from 0.84858 to 0.85415, saving model to models/fold1.h5\n",
      "Epoch 7/20\n",
      "\n",
      "Epoch 00007: LearningRateScheduler reducing learning rate to 0.0013171856999999998.\n",
      "410/410 [==============================] - 251s 614ms/step - loss: 0.4438 - auc: 0.8584 - val_loss: 0.4470 - val_auc: 0.8603\n",
      "\n",
      "Epoch 00007: val_auc improved from 0.85415 to 0.86026, saving model to models/fold1.h5\n",
      "Epoch 8/20\n",
      "\n",
      "Epoch 00008: LearningRateScheduler reducing learning rate to 0.0009220599899999999.\n",
      "410/410 [==============================] - 252s 615ms/step - loss: 0.4387 - auc: 0.8614 - val_loss: 0.4298 - val_auc: 0.8610\n",
      "\n",
      "Epoch 00008: val_auc improved from 0.86026 to 0.86104, saving model to models/fold1.h5\n",
      "Epoch 9/20\n",
      "\n",
      "Epoch 00009: LearningRateScheduler reducing learning rate to 0.0006454719929999997.\n",
      "410/410 [==============================] - 251s 613ms/step - loss: 0.4363 - auc: 0.8635 - val_loss: 0.4311 - val_auc: 0.8618\n",
      "\n",
      "Epoch 00009: val_auc improved from 0.86104 to 0.86175, saving model to models/fold1.h5\n",
      "Epoch 10/20\n",
      "\n",
      "Epoch 00010: LearningRateScheduler reducing learning rate to 0.00045186039509999986.\n",
      "410/410 [==============================] - 252s 614ms/step - loss: 0.4308 - auc: 0.8668 - val_loss: 0.4249 - val_auc: 0.8639\n",
      "\n",
      "Epoch 00010: val_auc improved from 0.86175 to 0.86391, saving model to models/fold1.h5\n",
      "Epoch 11/20\n",
      "\n",
      "Epoch 00011: LearningRateScheduler reducing learning rate to 0.00031633227656999987.\n",
      "410/410 [==============================] - 251s 612ms/step - loss: 0.4319 - auc: 0.8662 - val_loss: 0.4230 - val_auc: 0.8651\n",
      "\n",
      "Epoch 00011: val_auc improved from 0.86391 to 0.86512, saving model to models/fold1.h5\n",
      "Epoch 12/20\n",
      "\n",
      "Epoch 00012: LearningRateScheduler reducing learning rate to 0.0002214625935989999.\n",
      "410/410 [==============================] - 251s 613ms/step - loss: 0.4284 - auc: 0.8683 - val_loss: 0.4252 - val_auc: 0.8650\n",
      "\n",
      "Epoch 00012: val_auc did not improve from 0.86512\n",
      "Epoch 13/20\n",
      "\n",
      "Epoch 00013: LearningRateScheduler reducing learning rate to 0.00015505381551929993.\n",
      "410/410 [==============================] - 251s 612ms/step - loss: 0.4269 - auc: 0.8697 - val_loss: 0.4238 - val_auc: 0.8652\n",
      "\n",
      "Epoch 00013: val_auc improved from 0.86512 to 0.86522, saving model to models/fold1.h5\n",
      "Epoch 14/20\n",
      "\n",
      "Epoch 00014: LearningRateScheduler reducing learning rate to 0.00010856767086350995.\n",
      "410/410 [==============================] - 251s 613ms/step - loss: 0.4219 - auc: 0.8719 - val_loss: 0.4254 - val_auc: 0.8658\n",
      "\n",
      "Epoch 00014: val_auc improved from 0.86522 to 0.86584, saving model to models/fold1.h5\n",
      "Epoch 15/20\n",
      "\n",
      "Epoch 00015: LearningRateScheduler reducing learning rate to 7.602736960445695e-05.\n",
      "410/410 [==============================] - 251s 612ms/step - loss: 0.4242 - auc: 0.8708 - val_loss: 0.4206 - val_auc: 0.8659\n",
      "\n",
      "Epoch 00015: val_auc improved from 0.86584 to 0.86592, saving model to models/fold1.h5\n",
      "Epoch 16/20\n",
      "\n",
      "Epoch 00016: LearningRateScheduler reducing learning rate to 5.324915872311987e-05.\n",
      "410/410 [==============================] - 251s 612ms/step - loss: 0.4227 - auc: 0.8716 - val_loss: 0.4218 - val_auc: 0.8659\n",
      "\n",
      "Epoch 00016: val_auc did not improve from 0.86592\n",
      "Epoch 17/20\n",
      "\n",
      "Epoch 00017: LearningRateScheduler reducing learning rate to 3.7304411106183906e-05.\n",
      "410/410 [==============================] - 251s 612ms/step - loss: 0.4205 - auc: 0.8743 - val_loss: 0.4234 - val_auc: 0.8658\n",
      "\n",
      "Epoch 00017: val_auc did not improve from 0.86592\n",
      "Epoch 18/20\n",
      "\n",
      "Epoch 00018: LearningRateScheduler reducing learning rate to 2.614308777432873e-05.\n",
      "410/410 [==============================] - 251s 612ms/step - loss: 0.4173 - auc: 0.8748 - val_loss: 0.4214 - val_auc: 0.8659\n",
      "\n",
      "Epoch 00018: val_auc did not improve from 0.86592\n",
      "Epoch 19/20\n",
      "\n",
      "Epoch 00019: LearningRateScheduler reducing learning rate to 1.833016144203011e-05.\n",
      "410/410 [==============================] - 250s 611ms/step - loss: 0.4208 - auc: 0.8735 - val_loss: 0.4208 - val_auc: 0.8660\n",
      "\n",
      "Epoch 00019: val_auc improved from 0.86592 to 0.86596, saving model to models/fold1.h5\n",
      "Epoch 20/20\n",
      "\n",
      "Epoch 00020: LearningRateScheduler reducing learning rate to 1.2861113009421077e-05.\n",
      "410/410 [==============================] - 251s 613ms/step - loss: 0.4197 - auc: 0.8735 - val_loss: 0.4212 - val_auc: 0.8660\n",
      "\n",
      "Epoch 00020: val_auc improved from 0.86596 to 0.86600, saving model to models/fold1.h5\n",
      "Loading best model...\n"
     ]
    },
    {
     "name": "stderr",
     "output_type": "stream",
     "text": [
      "/opt/conda/lib/python3.7/site-packages/seaborn/distributions.py:2557: FutureWarning: `distplot` is a deprecated function and will be removed in a future version. Please adapt your code to use either `displot` (a figure-level function with similar flexibility) or `histplot` (an axes-level function for histograms).\n",
      "  warnings.warn(msg, FutureWarning)\n"
     ]
    },
    {
     "data": {
      "image/png": "[encoded data removed]",
      "text/plain": [
       "<Figure size 576x432 with 1 Axes>"
      ]
     },
     "metadata": {
      "needs_background": "light"
     },
     "output_type": "display_data"
    },
    {
     "data": {
      "image/png": "[encoded data removed]",
      "text/plain": [
       "<Figure size 1080x360 with 2 Axes>"
      ]
     },
     "metadata": {
      "needs_background": "light"
     },
     "output_type": "display_data"
    },
    {
     "name": "stdout",
     "output_type": "stream",
     "text": [
      "========================================================================================================================\n",
      "Fold 2\n",
      "========================================================================================================================\n",
      "Running on TPU: grpc://10.0.0.2:8470\n",
      "Running on 8 replicas\n",
      "Epoch 1/20\n",
      "\n",
      "Epoch 00001: LearningRateScheduler reducing learning rate to 0.0001.\n",
      "410/410 [==============================] - 545s 659ms/step - loss: 0.5955 - auc: 0.7097 - val_loss: 0.6785 - val_auc: 0.6230\n",
      "\n",
      "Epoch 00001: val_auc improved from -inf to 0.62299, saving model to models/fold2.h5\n",
      "Epoch 2/20\n",
      "\n",
      "Epoch 00002: LearningRateScheduler reducing learning rate to 0.0013466666666666668.\n",
      "410/410 [==============================] - 250s 610ms/step - loss: 0.5151 - auc: 0.8057 - val_loss: 0.6602 - val_auc: 0.8444\n",
      "\n",
      "Epoch 00002: val_auc improved from 0.62299 to 0.84438, saving model to models/fold2.h5\n",
      "Epoch 3/20\n",
      "\n",
      "Epoch 00003: LearningRateScheduler reducing learning rate to 0.0025933333333333333.\n",
      "410/410 [==============================] - 252s 615ms/step - loss: 0.4829 - auc: 0.8304 - val_loss: 0.4516 - val_auc: 0.8469\n",
      "\n",
      "Epoch 00003: val_auc improved from 0.84438 to 0.84689, saving model to models/fold2.h5\n",
      "Epoch 4/20\n",
      "\n",
      "Epoch 00004: LearningRateScheduler reducing learning rate to 0.00384.\n",
      "410/410 [==============================] - 252s 615ms/step - loss: 0.4690 - auc: 0.8419 - val_loss: 0.6922 - val_auc: 0.8377\n",
      "\n",
      "Epoch 00004: val_auc did not improve from 0.84689\n",
      "Epoch 5/20\n",
      "\n",
      "Epoch 00005: LearningRateScheduler reducing learning rate to 0.0026880299999999997.\n",
      "410/410 [==============================] - 254s 620ms/step - loss: 0.4574 - auc: 0.8495 - val_loss: 0.4383 - val_auc: 0.8543\n",
      "\n",
      "Epoch 00005: val_auc improved from 0.84689 to 0.85427, saving model to models/fold2.h5\n",
      "Epoch 6/20\n",
      "\n",
      "Epoch 00006: LearningRateScheduler reducing learning rate to 0.001881651.\n",
      "410/410 [==============================] - 251s 612ms/step - loss: 0.4470 - auc: 0.8564 - val_loss: 0.4583 - val_auc: 0.8555\n",
      "\n",
      "Epoch 00006: val_auc improved from 0.85427 to 0.85554, saving model to models/fold2.h5\n",
      "Epoch 7/20\n",
      "\n",
      "Epoch 00007: LearningRateScheduler reducing learning rate to 0.0013171856999999998.\n",
      "410/410 [==============================] - 251s 614ms/step - loss: 0.4435 - auc: 0.8588 - val_loss: 0.4323 - val_auc: 0.8595\n",
      "\n",
      "Epoch 00007: val_auc improved from 0.85554 to 0.85951, saving model to models/fold2.h5\n",
      "Epoch 8/20\n",
      "\n",
      "Epoch 00008: LearningRateScheduler reducing learning rate to 0.0009220599899999999.\n",
      "410/410 [==============================] - 252s 614ms/step - loss: 0.4393 - auc: 0.8623 - val_loss: 0.4316 - val_auc: 0.8627\n",
      "\n",
      "Epoch 00008: val_auc improved from 0.85951 to 0.86272, saving model to models/fold2.h5\n",
      "Epoch 9/20\n",
      "\n",
      "Epoch 00009: LearningRateScheduler reducing learning rate to 0.0006454719929999997.\n",
      "410/410 [==============================] - 251s 613ms/step - loss: 0.4359 - auc: 0.8640 - val_loss: 0.4322 - val_auc: 0.8601\n",
      "\n",
      "Epoch 00009: val_auc did not improve from 0.86272\n",
      "Epoch 10/20\n",
      "\n",
      "Epoch 00010: LearningRateScheduler reducing learning rate to 0.00045186039509999986.\n",
      "410/410 [==============================] - 251s 611ms/step - loss: 0.4313 - auc: 0.8667 - val_loss: 0.4255 - val_auc: 0.8644\n",
      "\n",
      "Epoch 00010: val_auc improved from 0.86272 to 0.86444, saving model to models/fold2.h5\n",
      "Epoch 11/20\n",
      "\n",
      "Epoch 00011: LearningRateScheduler reducing learning rate to 0.00031633227656999987.\n",
      "410/410 [==============================] - 251s 612ms/step - loss: 0.4321 - auc: 0.8660 - val_loss: 0.4237 - val_auc: 0.8653\n",
      "\n",
      "Epoch 00011: val_auc improved from 0.86444 to 0.86531, saving model to models/fold2.h5\n",
      "Epoch 12/20\n",
      "\n",
      "Epoch 00012: LearningRateScheduler reducing learning rate to 0.0002214625935989999.\n",
      "410/410 [==============================] - 251s 612ms/step - loss: 0.4301 - auc: 0.8679 - val_loss: 0.4267 - val_auc: 0.8658\n",
      "\n",
      "Epoch 00012: val_auc improved from 0.86531 to 0.86583, saving model to models/fold2.h5\n",
      "Epoch 13/20\n",
      "\n",
      "Epoch 00013: LearningRateScheduler reducing learning rate to 0.00015505381551929993.\n",
      "410/410 [==============================] - 251s 612ms/step - loss: 0.4264 - auc: 0.8701 - val_loss: 0.4218 - val_auc: 0.8659\n",
      "\n",
      "Epoch 00013: val_auc improved from 0.86583 to 0.86591, saving model to models/fold2.h5\n",
      "Epoch 14/20\n",
      "\n",
      "Epoch 00014: LearningRateScheduler reducing learning rate to 0.00010856767086350995.\n",
      "410/410 [==============================] - 251s 613ms/step - loss: 0.4225 - auc: 0.8717 - val_loss: 0.4218 - val_auc: 0.8663\n",
      "\n",
      "Epoch 00014: val_auc improved from 0.86591 to 0.86635, saving model to models/fold2.h5\n",
      "Epoch 15/20\n",
      "\n",
      "Epoch 00015: LearningRateScheduler reducing learning rate to 7.602736960445695e-05.\n",
      "410/410 [==============================] - 251s 612ms/step - loss: 0.4235 - auc: 0.8711 - val_loss: 0.4218 - val_auc: 0.8666\n",
      "\n",
      "Epoch 00015: val_auc improved from 0.86635 to 0.86655, saving model to models/fold2.h5\n",
      "Epoch 16/20\n",
      "\n",
      "Epoch 00016: LearningRateScheduler reducing learning rate to 5.324915872311987e-05.\n",
      "410/410 [==============================] - 251s 613ms/step - loss: 0.4211 - auc: 0.8737 - val_loss: 0.4209 - val_auc: 0.8664\n",
      "\n",
      "Epoch 00016: val_auc did not improve from 0.86655\n",
      "Epoch 17/20\n",
      "\n",
      "Epoch 00017: LearningRateScheduler reducing learning rate to 3.7304411106183906e-05.\n",
      "410/410 [==============================] - 251s 612ms/step - loss: 0.4205 - auc: 0.8736 - val_loss: 0.4206 - val_auc: 0.8662\n",
      "\n",
      "Epoch 00017: val_auc did not improve from 0.86655\n",
      "Epoch 18/20\n",
      "\n",
      "Epoch 00018: LearningRateScheduler reducing learning rate to 2.614308777432873e-05.\n",
      "410/410 [==============================] - 251s 612ms/step - loss: 0.4191 - auc: 0.8736 - val_loss: 0.4206 - val_auc: 0.8664\n",
      "\n",
      "Epoch 00018: val_auc did not improve from 0.86655\n",
      "Epoch 19/20\n",
      "\n",
      "Epoch 00019: LearningRateScheduler reducing learning rate to 1.833016144203011e-05.\n",
      "410/410 [==============================] - 250s 611ms/step - loss: 0.4204 - auc: 0.8733 - val_loss: 0.4206 - val_auc: 0.8665\n",
      "\n",
      "Epoch 00019: val_auc did not improve from 0.86655\n",
      "Epoch 20/20\n",
      "\n",
      "Epoch 00020: LearningRateScheduler reducing learning rate to 1.2861113009421077e-05.\n",
      "410/410 [==============================] - 251s 612ms/step - loss: 0.4176 - auc: 0.8763 - val_loss: 0.4210 - val_auc: 0.8664\n",
      "\n",
      "Epoch 00020: val_auc did not improve from 0.86655\n",
      "Loading best model...\n"
     ]
    },
    {
     "name": "stderr",
     "output_type": "stream",
     "text": [
      "/opt/conda/lib/python3.7/site-packages/seaborn/distributions.py:2557: FutureWarning: `distplot` is a deprecated function and will be removed in a future version. Please adapt your code to use either `displot` (a figure-level function with similar flexibility) or `histplot` (an axes-level function for histograms).\n",
      "  warnings.warn(msg, FutureWarning)\n"
     ]
    },
    {
     "data": {
      "image/png": "[encoded data removed]",
      "text/plain": [
       "<Figure size 576x432 with 1 Axes>"
      ]
     },
     "metadata": {
      "needs_background": "light"
     },
     "output_type": "display_data"
    },
    {
     "data": {
      "image/png": "[encoded data removed]",
      "text/plain": [
       "<Figure size 1080x360 with 2 Axes>"
      ]
     },
     "metadata": {
      "needs_background": "light"
     },
     "output_type": "display_data"
    },
    {
     "name": "stdout",
     "output_type": "stream",
     "text": [
      "========================================================================================================================\n",
      "Fold 3\n",
      "========================================================================================================================\n",
      "Running on TPU: grpc://10.0.0.2:8470\n",
      "Running on 8 replicas\n",
      "Epoch 1/20\n",
      "\n",
      "Epoch 00001: LearningRateScheduler reducing learning rate to 0.0001.\n",
      "410/410 [==============================] - 539s 658ms/step - loss: 0.5936 - auc: 0.7134 - val_loss: 0.6859 - val_auc: 0.6315\n",
      "\n",
      "Epoch 00001: val_auc improved from -inf to 0.63148, saving model to models/fold3.h5\n",
      "Epoch 2/20\n",
      "\n",
      "Epoch 00002: LearningRateScheduler reducing learning rate to 0.0013466666666666668.\n",
      "410/410 [==============================] - 250s 610ms/step - loss: 0.5133 - auc: 0.8062 - val_loss: 0.6136 - val_auc: 0.8415\n",
      "\n",
      "Epoch 00002: val_auc improved from 0.63148 to 0.84145, saving model to models/fold3.h5\n",
      "Epoch 3/20\n",
      "\n",
      "Epoch 00003: LearningRateScheduler reducing learning rate to 0.0025933333333333333.\n",
      "410/410 [==============================] - 251s 613ms/step - loss: 0.4840 - auc: 0.8285 - val_loss: 0.6081 - val_auc: 0.8452\n",
      "\n",
      "Epoch 00003: val_auc improved from 0.84145 to 0.84520, saving model to models/fold3.h5\n",
      "Epoch 4/20\n",
      "\n",
      "Epoch 00004: LearningRateScheduler reducing learning rate to 0.00384.\n",
      "410/410 [==============================] - 251s 612ms/step - loss: 0.4733 - auc: 0.8379 - val_loss: 0.6378 - val_auc: 0.8415\n",
      "\n",
      "Epoch 00004: val_auc did not improve from 0.84520\n",
      "Epoch 5/20\n",
      "\n",
      "Epoch 00005: LearningRateScheduler reducing learning rate to 0.0026880299999999997.\n",
      "410/410 [==============================] - 251s 613ms/step - loss: 0.4595 - auc: 0.8478 - val_loss: 0.4427 - val_auc: 0.8576\n",
      "\n",
      "Epoch 00005: val_auc improved from 0.84520 to 0.85756, saving model to models/fold3.h5\n",
      "Epoch 6/20\n",
      "\n",
      "Epoch 00006: LearningRateScheduler reducing learning rate to 0.001881651.\n",
      "410/410 [==============================] - 251s 614ms/step - loss: 0.4514 - auc: 0.8526 - val_loss: 0.4671 - val_auc: 0.8599\n",
      "\n",
      "Epoch 00006: val_auc improved from 0.85756 to 0.85992, saving model to models/fold3.h5\n",
      "Epoch 7/20\n",
      "\n",
      "Epoch 00007: LearningRateScheduler reducing learning rate to 0.0013171856999999998.\n",
      "410/410 [==============================] - 251s 613ms/step - loss: 0.4461 - auc: 0.8558 - val_loss: 0.4299 - val_auc: 0.8636\n",
      "\n",
      "Epoch 00007: val_auc improved from 0.85992 to 0.86358, saving model to models/fold3.h5\n",
      "Epoch 8/20\n",
      "\n",
      "Epoch 00008: LearningRateScheduler reducing learning rate to 0.0009220599899999999.\n",
      "410/410 [==============================] - 251s 614ms/step - loss: 0.4389 - auc: 0.8616 - val_loss: 0.4365 - val_auc: 0.8671\n",
      "\n",
      "Epoch 00008: val_auc improved from 0.86358 to 0.86708, saving model to models/fold3.h5\n",
      "Epoch 9/20\n",
      "\n",
      "Epoch 00009: LearningRateScheduler reducing learning rate to 0.0006454719929999997.\n",
      "410/410 [==============================] - 251s 614ms/step - loss: 0.4368 - auc: 0.8629 - val_loss: 0.4272 - val_auc: 0.8669\n",
      "\n",
      "Epoch 00009: val_auc did not improve from 0.86708\n",
      "Epoch 10/20\n",
      "\n",
      "Epoch 00010: LearningRateScheduler reducing learning rate to 0.00045186039509999986.\n",
      "410/410 [==============================] - 251s 613ms/step - loss: 0.4338 - auc: 0.8643 - val_loss: 0.4277 - val_auc: 0.8651\n",
      "\n",
      "Epoch 00010: val_auc did not improve from 0.86708\n",
      "Epoch 11/20\n",
      "\n",
      "Epoch 00011: LearningRateScheduler reducing learning rate to 0.00031633227656999987.\n",
      "410/410 [==============================] - 251s 613ms/step - loss: 0.4327 - auc: 0.8647 - val_loss: 0.4192 - val_auc: 0.8686\n",
      "\n",
      "Epoch 00011: val_auc improved from 0.86708 to 0.86860, saving model to models/fold3.h5\n",
      "Epoch 12/20\n",
      "\n",
      "Epoch 00012: LearningRateScheduler reducing learning rate to 0.0002214625935989999.\n",
      "410/410 [==============================] - 251s 614ms/step - loss: 0.4280 - auc: 0.8693 - val_loss: 0.4175 - val_auc: 0.8693\n",
      "\n",
      "Epoch 00012: val_auc improved from 0.86860 to 0.86932, saving model to models/fold3.h5\n",
      "Epoch 13/20\n",
      "\n",
      "Epoch 00013: LearningRateScheduler reducing learning rate to 0.00015505381551929993.\n",
      "410/410 [==============================] - 251s 613ms/step - loss: 0.4285 - auc: 0.8680 - val_loss: 0.4188 - val_auc: 0.8691\n",
      "\n",
      "Epoch 00013: val_auc did not improve from 0.86932\n",
      "Epoch 14/20\n",
      "\n",
      "Epoch 00014: LearningRateScheduler reducing learning rate to 0.00010856767086350995.\n",
      "410/410 [==============================] - 251s 612ms/step - loss: 0.4257 - auc: 0.8695 - val_loss: 0.4182 - val_auc: 0.8691\n",
      "\n",
      "Epoch 00014: val_auc did not improve from 0.86932\n",
      "Epoch 15/20\n",
      "\n",
      "Epoch 00015: LearningRateScheduler reducing learning rate to 7.602736960445695e-05.\n",
      "410/410 [==============================] - 251s 613ms/step - loss: 0.4240 - auc: 0.8701 - val_loss: 0.4171 - val_auc: 0.8697\n",
      "\n",
      "Epoch 00015: val_auc improved from 0.86932 to 0.86969, saving model to models/fold3.h5\n",
      "Epoch 16/20\n",
      "\n",
      "Epoch 00016: LearningRateScheduler reducing learning rate to 5.324915872311987e-05.\n",
      "410/410 [==============================] - 251s 612ms/step - loss: 0.4221 - auc: 0.8729 - val_loss: 0.4166 - val_auc: 0.8695\n",
      "\n",
      "Epoch 00016: val_auc did not improve from 0.86969\n",
      "Epoch 17/20\n",
      "\n",
      "Epoch 00017: LearningRateScheduler reducing learning rate to 3.7304411106183906e-05.\n",
      "410/410 [==============================] - 250s 611ms/step - loss: 0.4216 - auc: 0.8727 - val_loss: 0.4181 - val_auc: 0.8696\n",
      "\n",
      "Epoch 00017: val_auc did not improve from 0.86969\n",
      "Epoch 18/20\n",
      "\n",
      "Epoch 00018: LearningRateScheduler reducing learning rate to 2.614308777432873e-05.\n",
      "410/410 [==============================] - 250s 611ms/step - loss: 0.4207 - auc: 0.8729 - val_loss: 0.4172 - val_auc: 0.8694\n",
      "\n",
      "Epoch 00018: val_auc did not improve from 0.86969\n",
      "Epoch 19/20\n",
      "\n",
      "Epoch 00019: LearningRateScheduler reducing learning rate to 1.833016144203011e-05.\n",
      "410/410 [==============================] - 251s 612ms/step - loss: 0.4200 - auc: 0.8731 - val_loss: 0.4175 - val_auc: 0.8696\n",
      "\n",
      "Epoch 00019: val_auc did not improve from 0.86969\n",
      "Epoch 20/20\n",
      "\n",
      "Epoch 00020: LearningRateScheduler reducing learning rate to 1.2861113009421077e-05.\n",
      "410/410 [==============================] - 251s 613ms/step - loss: 0.4195 - auc: 0.8743 - val_loss: 0.4169 - val_auc: 0.8696\n",
      "\n",
      "Epoch 00020: val_auc did not improve from 0.86969\n",
      "Loading best model...\n"
     ]
    },
    {
     "name": "stderr",
     "output_type": "stream",
     "text": [
      "/opt/conda/lib/python3.7/site-packages/seaborn/distributions.py:2557: FutureWarning: `distplot` is a deprecated function and will be removed in a future version. Please adapt your code to use either `displot` (a figure-level function with similar flexibility) or `histplot` (an axes-level function for histograms).\n",
      "  warnings.warn(msg, FutureWarning)\n"
     ]
    },
    {
     "data": {
      "image/png": "[encoded data removed]",
      "text/plain": [
       "<Figure size 576x432 with 1 Axes>"
      ]
     },
     "metadata": {
      "needs_background": "light"
     },
     "output_type": "display_data"
    },
    {
     "data": {
      "image/png": "[encoded data removed]",
      "text/plain": [
       "<Figure size 1080x360 with 2 Axes>"
      ]
     },
     "metadata": {
      "needs_background": "light"
     },
     "output_type": "display_data"
    }
   ],
   "source": [
    "for fold, (trn_idx, val_idx) in enumerate(kf.split(files_train_all)):\n",
    "    files_train = files_train_all[trn_idx]\n",
    "    files_valid = files_train_all[val_idx]\n",
    "\n",
    "    print(\"=\" * 120)\n",
    "    print(f\"Fold {fold}\")\n",
    "    print(\"=\" * 120)\n",
    "\n",
    "    train_image_count = count_data_items(files_train)\n",
    "    valid_image_count = count_data_items(files_valid)\n",
    "\n",
    "    tf.keras.backend.clear_session()\n",
    "    strategy, tpu_detected = auto_select_accelerator()\n",
    "    with strategy.scope():\n",
    "        model = build_model(\n",
    "            size=IMAGE_SIZE, \n",
    "            efficientnet_size=EFFICIENTNET_SIZE,\n",
    "            weights=WEIGHTS, \n",
    "            count=train_image_count // BATCH_SIZE // REPLICAS // 4)\n",
    "    \n",
    "    model_ckpt = tf.keras.callbacks.ModelCheckpoint(\n",
    "        str(SAVEDIR / f\"fold{fold}.h5\"), monitor=\"val_auc\", verbose=1, save_best_only=True,\n",
    "        save_weights_only=True, mode=\"max\", save_freq=\"epoch\"\n",
    "    )\n",
    "\n",
    "    history = model.fit(\n",
    "        get_dataset(files_train, batch_size=BATCH_SIZE, shuffle=True, repeat=True, aug=True),\n",
    "        epochs=EPOCHS,\n",
    "        callbacks=[model_ckpt, get_lr_callback(BATCH_SIZE, REPLICAS)],\n",
    "        steps_per_epoch=train_image_count // BATCH_SIZE // REPLICAS // 4,\n",
    "        validation_data=get_dataset(files_valid, batch_size=BATCH_SIZE * 4, repeat=False, shuffle=False, aug=False),\n",
    "        verbose=1\n",
    "    )\n",
    "\n",
    "    print(\"Loading best model...\")\n",
    "    model.load_weights(str(SAVEDIR / f\"fold{fold}.h5\"))\n",
    "\n",
    "    ds_valid = get_dataset(files_valid, labeled=False, return_image_ids=False, repeat=True, shuffle=False, batch_size=BATCH_SIZE * 2, aug=False)\n",
    "    STEPS = valid_image_count / BATCH_SIZE / 2 / REPLICAS\n",
    "    pred = model.predict(ds_valid, steps=STEPS, verbose=0)[:valid_image_count]\n",
    "    oof_pred.append(np.mean(pred.reshape((valid_image_count, 1), order=\"F\"), axis=1))\n",
    "\n",
    "    ds_valid = get_dataset(files_valid, repeat=False, labeled=True, return_image_ids=True, aug=False)\n",
    "    oof_target.append(np.array([target.numpy() for img, target in iter(ds_valid.unbatch())]))\n",
    "\n",
    "    plt.figure(figsize=(8, 6))\n",
    "    sns.distplot(oof_pred[-1])\n",
    "    plt.show()\n",
    "\n",
    "    plt.figure(figsize=(15, 5))\n",
    "    plt.plot(\n",
    "        np.arange(len(history.history[\"auc\"])),\n",
    "        history.history[\"auc\"],\n",
    "        \"-o\",\n",
    "        label=\"Train auc\",\n",
    "        color=\"#ff7f0e\")\n",
    "    plt.plot(\n",
    "        np.arange(len(history.history[\"auc\"])),\n",
    "        history.history[\"val_auc\"],\n",
    "        \"-o\",\n",
    "        label=\"Val auc\",\n",
    "        color=\"#1f77b4\")\n",
    "    \n",
    "    x = np.argmax(history.history[\"val_auc\"])\n",
    "    y = np.max(history.history[\"val_auc\"])\n",
    "\n",
    "    xdist = plt.xlim()[1] - plt.xlim()[0]\n",
    "    ydist = plt.ylim()[1] - plt.ylim()[0]\n",
    "\n",
    "    plt.scatter(x, y, s=200, color=\"#1f77b4\")\n",
    "    plt.text(x - 0.03 * xdist, y - 0.13 * ydist, f\"max auc\\n{y}\", size=14)\n",
    "\n",
    "    plt.ylabel(\"auc\", size=14)\n",
    "    plt.xlabel(\"Epoch\", size=14)\n",
    "    plt.legend(loc=2)\n",
    "\n",
    "    plt2 = plt.gca().twinx()\n",
    "    plt2.plot(\n",
    "        np.arange(len(history.history[\"auc\"])),\n",
    "        history.history[\"loss\"],\n",
    "        \"-o\",\n",
    "        label=\"Train Loss\",\n",
    "        color=\"#2ca02c\")\n",
    "    plt2.plot(\n",
    "        np.arange(len(history.history[\"auc\"])),\n",
    "        history.history[\"val_loss\"],\n",
    "        \"-o\",\n",
    "        label=\"Val Loss\",\n",
    "        color=\"#d62728\")\n",
    "    \n",
    "    x = np.argmin(history.history[\"val_loss\"])\n",
    "    y = np.min(history.history[\"val_loss\"])\n",
    "    \n",
    "    ydist = plt.ylim()[1] - plt.ylim()[0]\n",
    "\n",
    "    plt.scatter(x, y, s=200, color=\"#d62728\")\n",
    "    plt.text(x - 0.03 * xdist, y + 0.05 * ydist, \"min loss\", size=14)\n",
    "\n",
    "    plt.ylabel(\"Loss\", size=14)\n",
    "    plt.title(f\"Fold {fold + 1} - Image Size {IMAGE_SIZE}, EfficientNetB{EFFICIENTNET_SIZE}\", size=18)\n",
    "\n",
    "    plt.legend(loc=3)\n",
    "    plt.savefig(OOFDIR / f\"fig{fold}.png\")\n",
    "    plt.show()"
   ]
  },
  {
   "cell_type": "markdown",
   "id": "bbf7e6ee",
   "metadata": {
    "papermill": {
     "duration": 10.55076,
     "end_time": "2021-08-14T09:51:52.359607",
     "exception": false,
     "start_time": "2021-08-14T09:51:41.808847",
     "status": "completed"
    },
    "tags": []
   },
   "source": [
    "## OOF"
   ]
  },
  {
   "cell_type": "code",
   "execution_count": 19,
   "id": "27de9339",
   "metadata": {
    "execution": {
     "iopub.execute_input": "2021-08-14T09:52:12.627382Z",
     "iopub.status.busy": "2021-08-14T09:52:12.626266Z",
     "iopub.status.idle": "2021-08-14T09:52:12.900841Z",
     "shell.execute_reply": "2021-08-14T09:52:12.901318Z"
    },
    "papermill": {
     "duration": 10.424491,
     "end_time": "2021-08-14T09:52:12.901515",
     "exception": false,
     "start_time": "2021-08-14T09:52:02.477024",
     "status": "completed"
    },
    "tags": []
   },
   "outputs": [
    {
     "name": "stdout",
     "output_type": "stream",
     "text": [
      "AUC: 0.86695\n"
     ]
    }
   ],
   "source": [
    "oof = np.concatenate(oof_pred)\n",
    "true = np.concatenate(oof_target)\n",
    "auc = roc_auc_score(y_true=true, y_score=oof)\n",
    "print(f\"AUC: {auc:.5f}\")"
   ]
  },
  {
   "cell_type": "code",
   "execution_count": 20,
   "id": "518a9cb3",
   "metadata": {
    "execution": {
     "iopub.execute_input": "2021-08-14T09:52:32.961579Z",
     "iopub.status.busy": "2021-08-14T09:52:32.960678Z",
     "iopub.status.idle": "2021-08-14T09:52:32.990249Z",
     "shell.execute_reply": "2021-08-14T09:52:32.989625Z"
    },
    "papermill": {
     "duration": 10.038098,
     "end_time": "2021-08-14T09:52:32.990395",
     "exception": false,
     "start_time": "2021-08-14T09:52:22.952297",
     "status": "completed"
    },
    "tags": []
   },
   "outputs": [
    {
     "data": {
      "text/html": [
       "<div>\n",
       "<style scoped>\n",
       "    .dataframe tbody tr th:only-of-type {\n",
       "        vertical-align: middle;\n",
       "    }\n",
       "\n",
       "    .dataframe tbody tr th {\n",
       "        vertical-align: top;\n",
       "    }\n",
       "\n",
       "    .dataframe thead th {\n",
       "        text-align: right;\n",
       "    }\n",
       "</style>\n",
       "<table border=\"1\" class=\"dataframe\">\n",
       "  <thead>\n",
       "    <tr style=\"text-align: right;\">\n",
       "      <th></th>\n",
       "      <th>y_true</th>\n",
       "      <th>y_pred</th>\n",
       "    </tr>\n",
       "  </thead>\n",
       "  <tbody>\n",
       "    <tr>\n",
       "      <th>0</th>\n",
       "      <td>0.0</td>\n",
       "      <td>0.376467</td>\n",
       "    </tr>\n",
       "    <tr>\n",
       "      <th>1</th>\n",
       "      <td>1.0</td>\n",
       "      <td>0.183256</td>\n",
       "    </tr>\n",
       "    <tr>\n",
       "      <th>2</th>\n",
       "      <td>1.0</td>\n",
       "      <td>0.152727</td>\n",
       "    </tr>\n",
       "    <tr>\n",
       "      <th>3</th>\n",
       "      <td>1.0</td>\n",
       "      <td>0.352445</td>\n",
       "    </tr>\n",
       "    <tr>\n",
       "      <th>4</th>\n",
       "      <td>0.0</td>\n",
       "      <td>0.300603</td>\n",
       "    </tr>\n",
       "  </tbody>\n",
       "</table>\n",
       "</div>"
      ],
      "text/plain": [
       "   y_true    y_pred\n",
       "0     0.0  0.376467\n",
       "1     1.0  0.183256\n",
       "2     1.0  0.152727\n",
       "3     1.0  0.352445\n",
       "4     0.0  0.300603"
      ]
     },
     "execution_count": 20,
     "metadata": {},
     "output_type": "execute_result"
    }
   ],
   "source": [
    "df = pd.DataFrame({\n",
    "    \"y_true\": true.reshape(-1),\n",
    "    \"y_pred\": oof\n",
    "})\n",
    "df.head()"
   ]
  },
  {
   "cell_type": "code",
   "execution_count": 21,
   "id": "c79e8d8a",
   "metadata": {
    "execution": {
     "iopub.execute_input": "2021-08-14T09:52:53.313452Z",
     "iopub.status.busy": "2021-08-14T09:52:53.312548Z",
     "iopub.status.idle": "2021-08-14T09:52:55.218852Z",
     "shell.execute_reply": "2021-08-14T09:52:55.218179Z"
    },
    "papermill": {
     "duration": 12.080685,
     "end_time": "2021-08-14T09:52:55.219018",
     "exception": false,
     "start_time": "2021-08-14T09:52:43.138333",
     "status": "completed"
    },
    "tags": []
   },
   "outputs": [],
   "source": [
    "df.to_csv(OOFDIR / f\"oof.csv\", index=False)"
   ]
  },
  {
   "cell_type": "code",
   "execution_count": null,
   "id": "8041d911",
   "metadata": {
    "papermill": {
     "duration": 10.05282,
     "end_time": "2021-08-14T09:53:15.214985",
     "exception": false,
     "start_time": "2021-08-14T09:53:05.162165",
     "status": "completed"
    },
    "tags": []
   },
   "outputs": [],
   "source": []
  }
 ],
 "metadata": {
  "kernelspec": {
   "display_name": "Python 3",
   "language": "python",
   "name": "python3"
  },
  "language_info": {
   "codemirror_mode": {
    "name": "ipython",
    "version": 3
   },
   "file_extension": ".py",
   "mimetype": "text/x-python",
   "name": "python",
   "nbconvert_exporter": "python",
   "pygments_lexer": "ipython3",
   "version": "3.7.10"
  },
  "papermill": {
   "default_parameters": {},
   "duration": 23536.999586,
   "end_time": "2021-08-14T09:53:28.218112",
   "environment_variables": {},
   "exception": null,
   "input_path": "__notebook__.ipynb",
   "output_path": "__notebook__.ipynb",
   "parameters": {},
   "start_time": "2021-08-14T03:21:11.218526",
   "version": "2.3.3"
  }
 },
 "nbformat": 4,
 "nbformat_minor": 5
}
